{
  "nbformat": 4,
  "nbformat_minor": 0,
  "metadata": {
    "colab": {
      "provenance": [],
      "authorship_tag": "ABX9TyMBV7vosq4M/r/oRjPoRoQW",
      "include_colab_link": true
    },
    "kernelspec": {
      "name": "python3",
      "display_name": "Python 3"
    },
    "language_info": {
      "name": "python"
    }
  },
  "cells": [
    {
      "cell_type": "markdown",
      "metadata": {
        "id": "view-in-github",
        "colab_type": "text"
      },
      "source": [
        "<a href=\"https://colab.research.google.com/github/Aqillaaprly/ML_2025/blob/main/MIDTERM_2341720068_Aqilla_Aprily_Kurnia_Sari.ipynb\" target=\"_parent\"><img src=\"https://colab.research.google.com/assets/colab-badge.svg\" alt=\"Open In Colab\"/></a>"
      ]
    },
    {
      "cell_type": "code",
      "source": [
        "import pandas as pd\n",
        "import numpy as np\n",
        "import matplotlib.pyplot as plt\n",
        "from sklearn.preprocessing import StandardScaler\n",
        "from sklearn.cluster import KMeans, DBSCAN\n",
        "from sklearn.metrics import silhouette_score, davies_bouldin_score\n",
        "from sklearn.decomposition import PCA\n",
        "from itertools import combinations\n",
        "import random\n",
        "import warnings\n",
        "warnings.filterwarnings(\"ignore\")"
      ],
      "metadata": {
        "id": "Gwl6igA5nnNt"
      },
      "execution_count": 64,
      "outputs": []
    },
    {
      "cell_type": "code",
      "source": [
        "import google.colab.drive\n",
        "google.colab.drive.mount('/content/drive')"
      ],
      "metadata": {
        "colab": {
          "base_uri": "https://localhost:8080/"
        },
        "id": "s0yxGDAb2Cpu",
        "outputId": "c984d0d5-8f34-4686-8f6d-ba2dc9595c0f"
      },
      "execution_count": null,
      "outputs": [
        {
          "output_type": "stream",
          "name": "stdout",
          "text": [
            "Drive already mounted at /content/drive; to attempt to forcibly remount, call drive.mount(\"/content/drive\", force_remount=True).\n"
          ]
        }
      ]
    },
    {
      "cell_type": "markdown",
      "source": [
        "# CASE STUDY 3\n",
        "\n",
        "- This case study is about liver disease characteristics.\n",
        "- For students with attendance numbers 3, 6, 9, 12, etc.\n",
        "- Follow these steps and analyze the results."
      ],
      "metadata": {
        "id": "y-Gc5l0Lnb5f"
      }
    },
    {
      "cell_type": "markdown",
      "source": [
        "## Data Preprocessing (10 points)"
      ],
      "metadata": {
        "id": "R4t4jVYjnhRQ"
      }
    },
    {
      "cell_type": "markdown",
      "source": [
        "### 1. Load data (0 points)"
      ],
      "metadata": {
        "id": "64Y0A1Kqp3ur"
      }
    },
    {
      "cell_type": "code",
      "source": [
        "# Load Data\n",
        "df = pd.read_csv('/content/drive/MyDrive/Machine Learning/3_heart.csv')\n",
        "print(\"Shape:\", df.shape)\n",
        "display(df.head())"
      ],
      "metadata": {
        "colab": {
          "base_uri": "https://localhost:8080/",
          "height": 224
        },
        "id": "3Y8-OjAwqOxr",
        "outputId": "1b595e3c-d8b9-49bf-f060-111f60f48269"
      },
      "execution_count": 65,
      "outputs": [
        {
          "output_type": "stream",
          "name": "stdout",
          "text": [
            "Shape: (1025, 14)\n"
          ]
        },
        {
          "output_type": "display_data",
          "data": {
            "text/plain": [
              "   age  sex  cp  trestbps  chol  fbs  restecg  thalach  exang  oldpeak  slope  \\\n",
              "0   52    1   0       125   212    0        1      168      0      1.0      2   \n",
              "1   53    1   0       140   203    1        0      155      1      3.1      0   \n",
              "2   70    1   0       145   174    0        1      125      1      2.6      0   \n",
              "3   61    1   0       148   203    0        1      161      0      0.0      2   \n",
              "4   62    0   0       138   294    1        1      106      0      1.9      1   \n",
              "\n",
              "   ca  thal  target  \n",
              "0   2     3       0  \n",
              "1   0     3       0  \n",
              "2   0     3       0  \n",
              "3   1     3       0  \n",
              "4   3     2       0  "
            ],
            "text/html": [
              "\n",
              "  <div id=\"df-d33e9dd0-1610-44a3-b953-8d4fd30f8fa3\" class=\"colab-df-container\">\n",
              "    <div>\n",
              "<style scoped>\n",
              "    .dataframe tbody tr th:only-of-type {\n",
              "        vertical-align: middle;\n",
              "    }\n",
              "\n",
              "    .dataframe tbody tr th {\n",
              "        vertical-align: top;\n",
              "    }\n",
              "\n",
              "    .dataframe thead th {\n",
              "        text-align: right;\n",
              "    }\n",
              "</style>\n",
              "<table border=\"1\" class=\"dataframe\">\n",
              "  <thead>\n",
              "    <tr style=\"text-align: right;\">\n",
              "      <th></th>\n",
              "      <th>age</th>\n",
              "      <th>sex</th>\n",
              "      <th>cp</th>\n",
              "      <th>trestbps</th>\n",
              "      <th>chol</th>\n",
              "      <th>fbs</th>\n",
              "      <th>restecg</th>\n",
              "      <th>thalach</th>\n",
              "      <th>exang</th>\n",
              "      <th>oldpeak</th>\n",
              "      <th>slope</th>\n",
              "      <th>ca</th>\n",
              "      <th>thal</th>\n",
              "      <th>target</th>\n",
              "    </tr>\n",
              "  </thead>\n",
              "  <tbody>\n",
              "    <tr>\n",
              "      <th>0</th>\n",
              "      <td>52</td>\n",
              "      <td>1</td>\n",
              "      <td>0</td>\n",
              "      <td>125</td>\n",
              "      <td>212</td>\n",
              "      <td>0</td>\n",
              "      <td>1</td>\n",
              "      <td>168</td>\n",
              "      <td>0</td>\n",
              "      <td>1.0</td>\n",
              "      <td>2</td>\n",
              "      <td>2</td>\n",
              "      <td>3</td>\n",
              "      <td>0</td>\n",
              "    </tr>\n",
              "    <tr>\n",
              "      <th>1</th>\n",
              "      <td>53</td>\n",
              "      <td>1</td>\n",
              "      <td>0</td>\n",
              "      <td>140</td>\n",
              "      <td>203</td>\n",
              "      <td>1</td>\n",
              "      <td>0</td>\n",
              "      <td>155</td>\n",
              "      <td>1</td>\n",
              "      <td>3.1</td>\n",
              "      <td>0</td>\n",
              "      <td>0</td>\n",
              "      <td>3</td>\n",
              "      <td>0</td>\n",
              "    </tr>\n",
              "    <tr>\n",
              "      <th>2</th>\n",
              "      <td>70</td>\n",
              "      <td>1</td>\n",
              "      <td>0</td>\n",
              "      <td>145</td>\n",
              "      <td>174</td>\n",
              "      <td>0</td>\n",
              "      <td>1</td>\n",
              "      <td>125</td>\n",
              "      <td>1</td>\n",
              "      <td>2.6</td>\n",
              "      <td>0</td>\n",
              "      <td>0</td>\n",
              "      <td>3</td>\n",
              "      <td>0</td>\n",
              "    </tr>\n",
              "    <tr>\n",
              "      <th>3</th>\n",
              "      <td>61</td>\n",
              "      <td>1</td>\n",
              "      <td>0</td>\n",
              "      <td>148</td>\n",
              "      <td>203</td>\n",
              "      <td>0</td>\n",
              "      <td>1</td>\n",
              "      <td>161</td>\n",
              "      <td>0</td>\n",
              "      <td>0.0</td>\n",
              "      <td>2</td>\n",
              "      <td>1</td>\n",
              "      <td>3</td>\n",
              "      <td>0</td>\n",
              "    </tr>\n",
              "    <tr>\n",
              "      <th>4</th>\n",
              "      <td>62</td>\n",
              "      <td>0</td>\n",
              "      <td>0</td>\n",
              "      <td>138</td>\n",
              "      <td>294</td>\n",
              "      <td>1</td>\n",
              "      <td>1</td>\n",
              "      <td>106</td>\n",
              "      <td>0</td>\n",
              "      <td>1.9</td>\n",
              "      <td>1</td>\n",
              "      <td>3</td>\n",
              "      <td>2</td>\n",
              "      <td>0</td>\n",
              "    </tr>\n",
              "  </tbody>\n",
              "</table>\n",
              "</div>\n",
              "    <div class=\"colab-df-buttons\">\n",
              "\n",
              "  <div class=\"colab-df-container\">\n",
              "    <button class=\"colab-df-convert\" onclick=\"convertToInteractive('df-d33e9dd0-1610-44a3-b953-8d4fd30f8fa3')\"\n",
              "            title=\"Convert this dataframe to an interactive table.\"\n",
              "            style=\"display:none;\">\n",
              "\n",
              "  <svg xmlns=\"http://www.w3.org/2000/svg\" height=\"24px\" viewBox=\"0 -960 960 960\">\n",
              "    <path d=\"M120-120v-720h720v720H120Zm60-500h600v-160H180v160Zm220 220h160v-160H400v160Zm0 220h160v-160H400v160ZM180-400h160v-160H180v160Zm440 0h160v-160H620v160ZM180-180h160v-160H180v160Zm440 0h160v-160H620v160Z\"/>\n",
              "  </svg>\n",
              "    </button>\n",
              "\n",
              "  <style>\n",
              "    .colab-df-container {\n",
              "      display:flex;\n",
              "      gap: 12px;\n",
              "    }\n",
              "\n",
              "    .colab-df-convert {\n",
              "      background-color: #E8F0FE;\n",
              "      border: none;\n",
              "      border-radius: 50%;\n",
              "      cursor: pointer;\n",
              "      display: none;\n",
              "      fill: #1967D2;\n",
              "      height: 32px;\n",
              "      padding: 0 0 0 0;\n",
              "      width: 32px;\n",
              "    }\n",
              "\n",
              "    .colab-df-convert:hover {\n",
              "      background-color: #E2EBFA;\n",
              "      box-shadow: 0px 1px 2px rgba(60, 64, 67, 0.3), 0px 1px 3px 1px rgba(60, 64, 67, 0.15);\n",
              "      fill: #174EA6;\n",
              "    }\n",
              "\n",
              "    .colab-df-buttons div {\n",
              "      margin-bottom: 4px;\n",
              "    }\n",
              "\n",
              "    [theme=dark] .colab-df-convert {\n",
              "      background-color: #3B4455;\n",
              "      fill: #D2E3FC;\n",
              "    }\n",
              "\n",
              "    [theme=dark] .colab-df-convert:hover {\n",
              "      background-color: #434B5C;\n",
              "      box-shadow: 0px 1px 3px 1px rgba(0, 0, 0, 0.15);\n",
              "      filter: drop-shadow(0px 1px 2px rgba(0, 0, 0, 0.3));\n",
              "      fill: #FFFFFF;\n",
              "    }\n",
              "  </style>\n",
              "\n",
              "    <script>\n",
              "      const buttonEl =\n",
              "        document.querySelector('#df-d33e9dd0-1610-44a3-b953-8d4fd30f8fa3 button.colab-df-convert');\n",
              "      buttonEl.style.display =\n",
              "        google.colab.kernel.accessAllowed ? 'block' : 'none';\n",
              "\n",
              "      async function convertToInteractive(key) {\n",
              "        const element = document.querySelector('#df-d33e9dd0-1610-44a3-b953-8d4fd30f8fa3');\n",
              "        const dataTable =\n",
              "          await google.colab.kernel.invokeFunction('convertToInteractive',\n",
              "                                                    [key], {});\n",
              "        if (!dataTable) return;\n",
              "\n",
              "        const docLinkHtml = 'Like what you see? Visit the ' +\n",
              "          '<a target=\"_blank\" href=https://colab.research.google.com/notebooks/data_table.ipynb>data table notebook</a>'\n",
              "          + ' to learn more about interactive tables.';\n",
              "        element.innerHTML = '';\n",
              "        dataTable['output_type'] = 'display_data';\n",
              "        await google.colab.output.renderOutput(dataTable, element);\n",
              "        const docLink = document.createElement('div');\n",
              "        docLink.innerHTML = docLinkHtml;\n",
              "        element.appendChild(docLink);\n",
              "      }\n",
              "    </script>\n",
              "  </div>\n",
              "\n",
              "\n",
              "    <div id=\"df-4eeb5712-5952-4553-ba62-209969e8a47d\">\n",
              "      <button class=\"colab-df-quickchart\" onclick=\"quickchart('df-4eeb5712-5952-4553-ba62-209969e8a47d')\"\n",
              "                title=\"Suggest charts\"\n",
              "                style=\"display:none;\">\n",
              "\n",
              "<svg xmlns=\"http://www.w3.org/2000/svg\" height=\"24px\"viewBox=\"0 0 24 24\"\n",
              "     width=\"24px\">\n",
              "    <g>\n",
              "        <path d=\"M19 3H5c-1.1 0-2 .9-2 2v14c0 1.1.9 2 2 2h14c1.1 0 2-.9 2-2V5c0-1.1-.9-2-2-2zM9 17H7v-7h2v7zm4 0h-2V7h2v10zm4 0h-2v-4h2v4z\"/>\n",
              "    </g>\n",
              "</svg>\n",
              "      </button>\n",
              "\n",
              "<style>\n",
              "  .colab-df-quickchart {\n",
              "      --bg-color: #E8F0FE;\n",
              "      --fill-color: #1967D2;\n",
              "      --hover-bg-color: #E2EBFA;\n",
              "      --hover-fill-color: #174EA6;\n",
              "      --disabled-fill-color: #AAA;\n",
              "      --disabled-bg-color: #DDD;\n",
              "  }\n",
              "\n",
              "  [theme=dark] .colab-df-quickchart {\n",
              "      --bg-color: #3B4455;\n",
              "      --fill-color: #D2E3FC;\n",
              "      --hover-bg-color: #434B5C;\n",
              "      --hover-fill-color: #FFFFFF;\n",
              "      --disabled-bg-color: #3B4455;\n",
              "      --disabled-fill-color: #666;\n",
              "  }\n",
              "\n",
              "  .colab-df-quickchart {\n",
              "    background-color: var(--bg-color);\n",
              "    border: none;\n",
              "    border-radius: 50%;\n",
              "    cursor: pointer;\n",
              "    display: none;\n",
              "    fill: var(--fill-color);\n",
              "    height: 32px;\n",
              "    padding: 0;\n",
              "    width: 32px;\n",
              "  }\n",
              "\n",
              "  .colab-df-quickchart:hover {\n",
              "    background-color: var(--hover-bg-color);\n",
              "    box-shadow: 0 1px 2px rgba(60, 64, 67, 0.3), 0 1px 3px 1px rgba(60, 64, 67, 0.15);\n",
              "    fill: var(--button-hover-fill-color);\n",
              "  }\n",
              "\n",
              "  .colab-df-quickchart-complete:disabled,\n",
              "  .colab-df-quickchart-complete:disabled:hover {\n",
              "    background-color: var(--disabled-bg-color);\n",
              "    fill: var(--disabled-fill-color);\n",
              "    box-shadow: none;\n",
              "  }\n",
              "\n",
              "  .colab-df-spinner {\n",
              "    border: 2px solid var(--fill-color);\n",
              "    border-color: transparent;\n",
              "    border-bottom-color: var(--fill-color);\n",
              "    animation:\n",
              "      spin 1s steps(1) infinite;\n",
              "  }\n",
              "\n",
              "  @keyframes spin {\n",
              "    0% {\n",
              "      border-color: transparent;\n",
              "      border-bottom-color: var(--fill-color);\n",
              "      border-left-color: var(--fill-color);\n",
              "    }\n",
              "    20% {\n",
              "      border-color: transparent;\n",
              "      border-left-color: var(--fill-color);\n",
              "      border-top-color: var(--fill-color);\n",
              "    }\n",
              "    30% {\n",
              "      border-color: transparent;\n",
              "      border-left-color: var(--fill-color);\n",
              "      border-top-color: var(--fill-color);\n",
              "      border-right-color: var(--fill-color);\n",
              "    }\n",
              "    40% {\n",
              "      border-color: transparent;\n",
              "      border-right-color: var(--fill-color);\n",
              "      border-top-color: var(--fill-color);\n",
              "    }\n",
              "    60% {\n",
              "      border-color: transparent;\n",
              "      border-right-color: var(--fill-color);\n",
              "    }\n",
              "    80% {\n",
              "      border-color: transparent;\n",
              "      border-right-color: var(--fill-color);\n",
              "      border-bottom-color: var(--fill-color);\n",
              "    }\n",
              "    90% {\n",
              "      border-color: transparent;\n",
              "      border-bottom-color: var(--fill-color);\n",
              "    }\n",
              "  }\n",
              "</style>\n",
              "\n",
              "      <script>\n",
              "        async function quickchart(key) {\n",
              "          const quickchartButtonEl =\n",
              "            document.querySelector('#' + key + ' button');\n",
              "          quickchartButtonEl.disabled = true;  // To prevent multiple clicks.\n",
              "          quickchartButtonEl.classList.add('colab-df-spinner');\n",
              "          try {\n",
              "            const charts = await google.colab.kernel.invokeFunction(\n",
              "                'suggestCharts', [key], {});\n",
              "          } catch (error) {\n",
              "            console.error('Error during call to suggestCharts:', error);\n",
              "          }\n",
              "          quickchartButtonEl.classList.remove('colab-df-spinner');\n",
              "          quickchartButtonEl.classList.add('colab-df-quickchart-complete');\n",
              "        }\n",
              "        (() => {\n",
              "          let quickchartButtonEl =\n",
              "            document.querySelector('#df-4eeb5712-5952-4553-ba62-209969e8a47d button');\n",
              "          quickchartButtonEl.style.display =\n",
              "            google.colab.kernel.accessAllowed ? 'block' : 'none';\n",
              "        })();\n",
              "      </script>\n",
              "    </div>\n",
              "\n",
              "    </div>\n",
              "  </div>\n"
            ],
            "application/vnd.google.colaboratory.intrinsic+json": {
              "type": "dataframe",
              "summary": "{\n  \"name\": \"display(df\",\n  \"rows\": 5,\n  \"fields\": [\n    {\n      \"column\": \"age\",\n      \"properties\": {\n        \"dtype\": \"number\",\n        \"std\": 7,\n        \"min\": 52,\n        \"max\": 70,\n        \"num_unique_values\": 5,\n        \"samples\": [\n          53,\n          62,\n          70\n        ],\n        \"semantic_type\": \"\",\n        \"description\": \"\"\n      }\n    },\n    {\n      \"column\": \"sex\",\n      \"properties\": {\n        \"dtype\": \"number\",\n        \"std\": 0,\n        \"min\": 0,\n        \"max\": 1,\n        \"num_unique_values\": 2,\n        \"samples\": [\n          0,\n          1\n        ],\n        \"semantic_type\": \"\",\n        \"description\": \"\"\n      }\n    },\n    {\n      \"column\": \"cp\",\n      \"properties\": {\n        \"dtype\": \"number\",\n        \"std\": 0,\n        \"min\": 0,\n        \"max\": 0,\n        \"num_unique_values\": 1,\n        \"samples\": [\n          0\n        ],\n        \"semantic_type\": \"\",\n        \"description\": \"\"\n      }\n    },\n    {\n      \"column\": \"trestbps\",\n      \"properties\": {\n        \"dtype\": \"number\",\n        \"std\": 8,\n        \"min\": 125,\n        \"max\": 148,\n        \"num_unique_values\": 5,\n        \"samples\": [\n          140\n        ],\n        \"semantic_type\": \"\",\n        \"description\": \"\"\n      }\n    },\n    {\n      \"column\": \"chol\",\n      \"properties\": {\n        \"dtype\": \"number\",\n        \"std\": 45,\n        \"min\": 174,\n        \"max\": 294,\n        \"num_unique_values\": 4,\n        \"samples\": [\n          203\n        ],\n        \"semantic_type\": \"\",\n        \"description\": \"\"\n      }\n    },\n    {\n      \"column\": \"fbs\",\n      \"properties\": {\n        \"dtype\": \"number\",\n        \"std\": 0,\n        \"min\": 0,\n        \"max\": 1,\n        \"num_unique_values\": 2,\n        \"samples\": [\n          1\n        ],\n        \"semantic_type\": \"\",\n        \"description\": \"\"\n      }\n    },\n    {\n      \"column\": \"restecg\",\n      \"properties\": {\n        \"dtype\": \"number\",\n        \"std\": 0,\n        \"min\": 0,\n        \"max\": 1,\n        \"num_unique_values\": 2,\n        \"samples\": [\n          0\n        ],\n        \"semantic_type\": \"\",\n        \"description\": \"\"\n      }\n    },\n    {\n      \"column\": \"thalach\",\n      \"properties\": {\n        \"dtype\": \"number\",\n        \"std\": 26,\n        \"min\": 106,\n        \"max\": 168,\n        \"num_unique_values\": 5,\n        \"samples\": [\n          155\n        ],\n        \"semantic_type\": \"\",\n        \"description\": \"\"\n      }\n    },\n    {\n      \"column\": \"exang\",\n      \"properties\": {\n        \"dtype\": \"number\",\n        \"std\": 0,\n        \"min\": 0,\n        \"max\": 1,\n        \"num_unique_values\": 2,\n        \"samples\": [\n          1\n        ],\n        \"semantic_type\": \"\",\n        \"description\": \"\"\n      }\n    },\n    {\n      \"column\": \"oldpeak\",\n      \"properties\": {\n        \"dtype\": \"number\",\n        \"std\": 1.243784547258889,\n        \"min\": 0.0,\n        \"max\": 3.1,\n        \"num_unique_values\": 5,\n        \"samples\": [\n          3.1\n        ],\n        \"semantic_type\": \"\",\n        \"description\": \"\"\n      }\n    },\n    {\n      \"column\": \"slope\",\n      \"properties\": {\n        \"dtype\": \"number\",\n        \"std\": 1,\n        \"min\": 0,\n        \"max\": 2,\n        \"num_unique_values\": 3,\n        \"samples\": [\n          2\n        ],\n        \"semantic_type\": \"\",\n        \"description\": \"\"\n      }\n    },\n    {\n      \"column\": \"ca\",\n      \"properties\": {\n        \"dtype\": \"number\",\n        \"std\": 1,\n        \"min\": 0,\n        \"max\": 3,\n        \"num_unique_values\": 4,\n        \"samples\": [\n          0\n        ],\n        \"semantic_type\": \"\",\n        \"description\": \"\"\n      }\n    },\n    {\n      \"column\": \"thal\",\n      \"properties\": {\n        \"dtype\": \"number\",\n        \"std\": 0,\n        \"min\": 2,\n        \"max\": 3,\n        \"num_unique_values\": 2,\n        \"samples\": [\n          2\n        ],\n        \"semantic_type\": \"\",\n        \"description\": \"\"\n      }\n    },\n    {\n      \"column\": \"target\",\n      \"properties\": {\n        \"dtype\": \"number\",\n        \"std\": 0,\n        \"min\": 0,\n        \"max\": 0,\n        \"num_unique_values\": 1,\n        \"samples\": [\n          0\n        ],\n        \"semantic_type\": \"\",\n        \"description\": \"\"\n      }\n    }\n  ]\n}"
            }
          },
          "metadata": {}
        }
      ]
    },
    {
      "cell_type": "markdown",
      "source": [
        "### 2. Check data description for missing values. If yes, mention how many and in which features. (5 points)"
      ],
      "metadata": {
        "id": "LXISJ0Gjs7iy"
      }
    },
    {
      "cell_type": "code",
      "source": [
        "print(\"Data Info:\")\n",
        "df.info()\n",
        "\n",
        "print(\"\\nMissing Values Count:\")\n",
        "missing_values = df.isnull().sum()\n",
        "print(missing_values[missing_values > 0])"
      ],
      "metadata": {
        "colab": {
          "base_uri": "https://localhost:8080/"
        },
        "id": "2XRf3A6mrvSl",
        "outputId": "bc9ded98-6453-4f17-b145-54c162597df0"
      },
      "execution_count": 66,
      "outputs": [
        {
          "output_type": "stream",
          "name": "stdout",
          "text": [
            "Data Info:\n",
            "<class 'pandas.core.frame.DataFrame'>\n",
            "RangeIndex: 1025 entries, 0 to 1024\n",
            "Data columns (total 14 columns):\n",
            " #   Column    Non-Null Count  Dtype  \n",
            "---  ------    --------------  -----  \n",
            " 0   age       1025 non-null   int64  \n",
            " 1   sex       1025 non-null   int64  \n",
            " 2   cp        1025 non-null   int64  \n",
            " 3   trestbps  1025 non-null   int64  \n",
            " 4   chol      1025 non-null   int64  \n",
            " 5   fbs       1025 non-null   int64  \n",
            " 6   restecg   1025 non-null   int64  \n",
            " 7   thalach   1025 non-null   int64  \n",
            " 8   exang     1025 non-null   int64  \n",
            " 9   oldpeak   1025 non-null   float64\n",
            " 10  slope     1025 non-null   int64  \n",
            " 11  ca        1025 non-null   int64  \n",
            " 12  thal      1025 non-null   int64  \n",
            " 13  target    1025 non-null   int64  \n",
            "dtypes: float64(1), int64(13)\n",
            "memory usage: 112.2 KB\n",
            "\n",
            "Missing Values Count:\n",
            "Series([], dtype: int64)\n"
          ]
        }
      ]
    },
    {
      "cell_type": "markdown",
      "source": [
        "From the data above, there are no missing values detected, all the data came as non-null count"
      ],
      "metadata": {
        "id": "csfYY9-7sQVr"
      }
    },
    {
      "cell_type": "markdown",
      "source": [
        "### 3. Drop irrelevant features for the clustering process. (5 points)"
      ],
      "metadata": {
        "id": "2vUZzLEbtBqn"
      }
    },
    {
      "cell_type": "code",
      "source": [
        "df = df.drop(columns=['target'])\n",
        "print(\"New shape:\", df.shape)"
      ],
      "metadata": {
        "colab": {
          "base_uri": "https://localhost:8080/"
        },
        "id": "lu8uJUGltE2I",
        "outputId": "5a8874ec-7124-4347-bfb0-19e76fabd2d6"
      },
      "execution_count": 67,
      "outputs": [
        {
          "output_type": "stream",
          "name": "stdout",
          "text": [
            "New shape: (1025, 13)\n"
          ]
        }
      ]
    },
    {
      "cell_type": "markdown",
      "source": [
        "I decide to drop 'target' feature since what we want to do here is clustering as unsupervised learning and 'target' is a class label and used for supervised learning."
      ],
      "metadata": {
        "id": "NI-PLK0dw6E9"
      }
    },
    {
      "cell_type": "markdown",
      "source": [
        "## Feature Selection (20 points)"
      ],
      "metadata": {
        "id": "gitQ81aonoMq"
      }
    },
    {
      "cell_type": "markdown",
      "source": [
        "### 1. Select your top 5 variables from all available variables. (10 points)"
      ],
      "metadata": {
        "id": "Bo_1sDYAp9-j"
      }
    },
    {
      "cell_type": "markdown",
      "source": [
        "1. Sex : Represent patient's gender which can influence heart disease risk patterns.\n",
        "2. fbs (Fasting Bloos Sugar) : Indicates the fasting blood sugar level as a marker related to diabetes and heart disease\n",
        "3. Age : Age as major risk factor\n",
        "4. Trestbps : Measure resting blood pressure.\n",
        "5. Cp (Chest Pain Type) : DEscribe the type of chest pain as early symptom to heart disease."
      ],
      "metadata": {
        "id": "mDnYAxMQ-xvQ"
      }
    },
    {
      "cell_type": "markdown",
      "source": [
        "### 2. How did you select these 5 variables? Explain your reasoning. (10 points)"
      ],
      "metadata": {
        "id": "_p6Z7s6CyrZC"
      }
    },
    {
      "cell_type": "code",
      "source": [
        "# Standardisasi\n",
        "scaler = StandardScaler()\n",
        "X_scaled = scaler.fit_transform(df)\n",
        "\n",
        "# PCA running\n",
        "pca = PCA(n_components=len(df.columns))\n",
        "pca.fit(X_scaled)\n",
        "\n",
        "loadings = pd.DataFrame(\n",
        "    pca.components_.T,\n",
        "    columns=[f'PC{i+1}' for i in range(len(df.columns))],\n",
        "    index=df.columns\n",
        ")\n",
        "print(\"PCA Loadings:\")\n",
        "display(loadings)\n",
        "\n",
        "# contribution absolute\n",
        "feature_importance = loadings[['PC1','PC2','PC3']].abs().sum(axis=1)\n",
        "feature_importance = feature_importance.sort_values(ascending=False)\n",
        "\n",
        "print(\"\\nFeature Importance (Top 5):\")\n",
        "display(feature_importance.head(5))\n",
        "\n",
        "# Visualization\n",
        "feature_importance.plot(kind='bar', figsize=(8,4), color='skyblue')\n",
        "plt.title(\"Feature Importance based on PCA Loadings\")\n",
        "plt.ylabel(\"Sum of |Loadings| (PC1–PC3)\")\n",
        "plt.show()\n"
      ],
      "metadata": {
        "colab": {
          "base_uri": "https://localhost:8080/",
          "height": 1000
        },
        "id": "G0wwQN7Lyt_W",
        "outputId": "094f78d0-ae14-49d4-9987-d90042a50001"
      },
      "execution_count": 68,
      "outputs": [
        {
          "output_type": "stream",
          "name": "stdout",
          "text": [
            "PCA Loadings:\n"
          ]
        },
        {
          "output_type": "display_data",
          "data": {
            "text/plain": [
              "               PC1       PC2       PC3       PC4       PC5       PC6  \\\n",
              "age       0.309574  0.398286 -0.070616  0.053975  0.290981  0.204218   \n",
              "sex       0.078073 -0.379076  0.618113  0.006604 -0.049592 -0.015825   \n",
              "cp       -0.285616  0.274947  0.198286 -0.403411 -0.188481  0.228271   \n",
              "trestbps  0.178760  0.438909  0.154674 -0.128736 -0.241707  0.139863   \n",
              "chol      0.127985  0.369819 -0.251021  0.468203 -0.305881  0.005674   \n",
              "fbs       0.080713  0.321476  0.447107 -0.176946  0.233021 -0.280946   \n",
              "restecg  -0.129490 -0.244760 -0.238472 -0.179450  0.274561  0.632247   \n",
              "thalach  -0.416970  0.093830  0.197128  0.096199 -0.333954  0.056088   \n",
              "exang     0.363869 -0.258613 -0.050942  0.129796 -0.017338 -0.310502   \n",
              "oldpeak   0.421781 -0.070527 -0.044178 -0.322653 -0.260365  0.165167   \n",
              "slope    -0.380108  0.064792  0.137898  0.481771  0.235783  0.062540   \n",
              "ca        0.265334  0.105858  0.319281  0.219551  0.432391  0.303059   \n",
              "thal      0.214070 -0.182619  0.256048  0.352833 -0.416541  0.430212   \n",
              "\n",
              "               PC7       PC8       PC9      PC10      PC11      PC12      PC13  \n",
              "age      -0.249728  0.235570 -0.383547 -0.004413 -0.114808  0.542605 -0.196650  \n",
              "sex      -0.184611  0.104707 -0.198855  0.546399 -0.282643  0.002102 -0.048550  \n",
              "cp       -0.216087 -0.122017 -0.327642  0.141045  0.594051 -0.106640  0.006520  \n",
              "trestbps  0.310433  0.622511  0.289129  0.144485 -0.066094 -0.253216 -0.008689  \n",
              "chol      0.061741 -0.411463 -0.154697  0.482187 -0.100810 -0.176414  0.014111  \n",
              "fbs       0.517997 -0.361286 -0.224158 -0.188297 -0.159852  0.020627  0.123148  \n",
              "restecg   0.511241 -0.076549 -0.115155  0.251059 -0.099845 -0.003988 -0.075031  \n",
              "thalach   0.165287 -0.139152  0.356564  0.030142 -0.039872  0.596809 -0.349352  \n",
              "exang     0.385981  0.135023 -0.088739  0.193727  0.627112  0.213463 -0.181965  \n",
              "oldpeak  -0.054706 -0.213249  0.247533  0.088694 -0.002602  0.374394  0.598511  \n",
              "slope     0.085794  0.255842 -0.035009  0.080008  0.186795  0.162136  0.631723  \n",
              "ca       -0.174228 -0.277229  0.509161  0.025494  0.270128 -0.155415 -0.158785  \n",
              "thal      0.099910 -0.008056 -0.279659 -0.525653  0.035424 -0.078499 -0.014116  "
            ],
            "text/html": [
              "\n",
              "  <div id=\"df-3427dfb6-213e-419d-a576-a1941248ad22\" class=\"colab-df-container\">\n",
              "    <div>\n",
              "<style scoped>\n",
              "    .dataframe tbody tr th:only-of-type {\n",
              "        vertical-align: middle;\n",
              "    }\n",
              "\n",
              "    .dataframe tbody tr th {\n",
              "        vertical-align: top;\n",
              "    }\n",
              "\n",
              "    .dataframe thead th {\n",
              "        text-align: right;\n",
              "    }\n",
              "</style>\n",
              "<table border=\"1\" class=\"dataframe\">\n",
              "  <thead>\n",
              "    <tr style=\"text-align: right;\">\n",
              "      <th></th>\n",
              "      <th>PC1</th>\n",
              "      <th>PC2</th>\n",
              "      <th>PC3</th>\n",
              "      <th>PC4</th>\n",
              "      <th>PC5</th>\n",
              "      <th>PC6</th>\n",
              "      <th>PC7</th>\n",
              "      <th>PC8</th>\n",
              "      <th>PC9</th>\n",
              "      <th>PC10</th>\n",
              "      <th>PC11</th>\n",
              "      <th>PC12</th>\n",
              "      <th>PC13</th>\n",
              "    </tr>\n",
              "  </thead>\n",
              "  <tbody>\n",
              "    <tr>\n",
              "      <th>age</th>\n",
              "      <td>0.309574</td>\n",
              "      <td>0.398286</td>\n",
              "      <td>-0.070616</td>\n",
              "      <td>0.053975</td>\n",
              "      <td>0.290981</td>\n",
              "      <td>0.204218</td>\n",
              "      <td>-0.249728</td>\n",
              "      <td>0.235570</td>\n",
              "      <td>-0.383547</td>\n",
              "      <td>-0.004413</td>\n",
              "      <td>-0.114808</td>\n",
              "      <td>0.542605</td>\n",
              "      <td>-0.196650</td>\n",
              "    </tr>\n",
              "    <tr>\n",
              "      <th>sex</th>\n",
              "      <td>0.078073</td>\n",
              "      <td>-0.379076</td>\n",
              "      <td>0.618113</td>\n",
              "      <td>0.006604</td>\n",
              "      <td>-0.049592</td>\n",
              "      <td>-0.015825</td>\n",
              "      <td>-0.184611</td>\n",
              "      <td>0.104707</td>\n",
              "      <td>-0.198855</td>\n",
              "      <td>0.546399</td>\n",
              "      <td>-0.282643</td>\n",
              "      <td>0.002102</td>\n",
              "      <td>-0.048550</td>\n",
              "    </tr>\n",
              "    <tr>\n",
              "      <th>cp</th>\n",
              "      <td>-0.285616</td>\n",
              "      <td>0.274947</td>\n",
              "      <td>0.198286</td>\n",
              "      <td>-0.403411</td>\n",
              "      <td>-0.188481</td>\n",
              "      <td>0.228271</td>\n",
              "      <td>-0.216087</td>\n",
              "      <td>-0.122017</td>\n",
              "      <td>-0.327642</td>\n",
              "      <td>0.141045</td>\n",
              "      <td>0.594051</td>\n",
              "      <td>-0.106640</td>\n",
              "      <td>0.006520</td>\n",
              "    </tr>\n",
              "    <tr>\n",
              "      <th>trestbps</th>\n",
              "      <td>0.178760</td>\n",
              "      <td>0.438909</td>\n",
              "      <td>0.154674</td>\n",
              "      <td>-0.128736</td>\n",
              "      <td>-0.241707</td>\n",
              "      <td>0.139863</td>\n",
              "      <td>0.310433</td>\n",
              "      <td>0.622511</td>\n",
              "      <td>0.289129</td>\n",
              "      <td>0.144485</td>\n",
              "      <td>-0.066094</td>\n",
              "      <td>-0.253216</td>\n",
              "      <td>-0.008689</td>\n",
              "    </tr>\n",
              "    <tr>\n",
              "      <th>chol</th>\n",
              "      <td>0.127985</td>\n",
              "      <td>0.369819</td>\n",
              "      <td>-0.251021</td>\n",
              "      <td>0.468203</td>\n",
              "      <td>-0.305881</td>\n",
              "      <td>0.005674</td>\n",
              "      <td>0.061741</td>\n",
              "      <td>-0.411463</td>\n",
              "      <td>-0.154697</td>\n",
              "      <td>0.482187</td>\n",
              "      <td>-0.100810</td>\n",
              "      <td>-0.176414</td>\n",
              "      <td>0.014111</td>\n",
              "    </tr>\n",
              "    <tr>\n",
              "      <th>fbs</th>\n",
              "      <td>0.080713</td>\n",
              "      <td>0.321476</td>\n",
              "      <td>0.447107</td>\n",
              "      <td>-0.176946</td>\n",
              "      <td>0.233021</td>\n",
              "      <td>-0.280946</td>\n",
              "      <td>0.517997</td>\n",
              "      <td>-0.361286</td>\n",
              "      <td>-0.224158</td>\n",
              "      <td>-0.188297</td>\n",
              "      <td>-0.159852</td>\n",
              "      <td>0.020627</td>\n",
              "      <td>0.123148</td>\n",
              "    </tr>\n",
              "    <tr>\n",
              "      <th>restecg</th>\n",
              "      <td>-0.129490</td>\n",
              "      <td>-0.244760</td>\n",
              "      <td>-0.238472</td>\n",
              "      <td>-0.179450</td>\n",
              "      <td>0.274561</td>\n",
              "      <td>0.632247</td>\n",
              "      <td>0.511241</td>\n",
              "      <td>-0.076549</td>\n",
              "      <td>-0.115155</td>\n",
              "      <td>0.251059</td>\n",
              "      <td>-0.099845</td>\n",
              "      <td>-0.003988</td>\n",
              "      <td>-0.075031</td>\n",
              "    </tr>\n",
              "    <tr>\n",
              "      <th>thalach</th>\n",
              "      <td>-0.416970</td>\n",
              "      <td>0.093830</td>\n",
              "      <td>0.197128</td>\n",
              "      <td>0.096199</td>\n",
              "      <td>-0.333954</td>\n",
              "      <td>0.056088</td>\n",
              "      <td>0.165287</td>\n",
              "      <td>-0.139152</td>\n",
              "      <td>0.356564</td>\n",
              "      <td>0.030142</td>\n",
              "      <td>-0.039872</td>\n",
              "      <td>0.596809</td>\n",
              "      <td>-0.349352</td>\n",
              "    </tr>\n",
              "    <tr>\n",
              "      <th>exang</th>\n",
              "      <td>0.363869</td>\n",
              "      <td>-0.258613</td>\n",
              "      <td>-0.050942</td>\n",
              "      <td>0.129796</td>\n",
              "      <td>-0.017338</td>\n",
              "      <td>-0.310502</td>\n",
              "      <td>0.385981</td>\n",
              "      <td>0.135023</td>\n",
              "      <td>-0.088739</td>\n",
              "      <td>0.193727</td>\n",
              "      <td>0.627112</td>\n",
              "      <td>0.213463</td>\n",
              "      <td>-0.181965</td>\n",
              "    </tr>\n",
              "    <tr>\n",
              "      <th>oldpeak</th>\n",
              "      <td>0.421781</td>\n",
              "      <td>-0.070527</td>\n",
              "      <td>-0.044178</td>\n",
              "      <td>-0.322653</td>\n",
              "      <td>-0.260365</td>\n",
              "      <td>0.165167</td>\n",
              "      <td>-0.054706</td>\n",
              "      <td>-0.213249</td>\n",
              "      <td>0.247533</td>\n",
              "      <td>0.088694</td>\n",
              "      <td>-0.002602</td>\n",
              "      <td>0.374394</td>\n",
              "      <td>0.598511</td>\n",
              "    </tr>\n",
              "    <tr>\n",
              "      <th>slope</th>\n",
              "      <td>-0.380108</td>\n",
              "      <td>0.064792</td>\n",
              "      <td>0.137898</td>\n",
              "      <td>0.481771</td>\n",
              "      <td>0.235783</td>\n",
              "      <td>0.062540</td>\n",
              "      <td>0.085794</td>\n",
              "      <td>0.255842</td>\n",
              "      <td>-0.035009</td>\n",
              "      <td>0.080008</td>\n",
              "      <td>0.186795</td>\n",
              "      <td>0.162136</td>\n",
              "      <td>0.631723</td>\n",
              "    </tr>\n",
              "    <tr>\n",
              "      <th>ca</th>\n",
              "      <td>0.265334</td>\n",
              "      <td>0.105858</td>\n",
              "      <td>0.319281</td>\n",
              "      <td>0.219551</td>\n",
              "      <td>0.432391</td>\n",
              "      <td>0.303059</td>\n",
              "      <td>-0.174228</td>\n",
              "      <td>-0.277229</td>\n",
              "      <td>0.509161</td>\n",
              "      <td>0.025494</td>\n",
              "      <td>0.270128</td>\n",
              "      <td>-0.155415</td>\n",
              "      <td>-0.158785</td>\n",
              "    </tr>\n",
              "    <tr>\n",
              "      <th>thal</th>\n",
              "      <td>0.214070</td>\n",
              "      <td>-0.182619</td>\n",
              "      <td>0.256048</td>\n",
              "      <td>0.352833</td>\n",
              "      <td>-0.416541</td>\n",
              "      <td>0.430212</td>\n",
              "      <td>0.099910</td>\n",
              "      <td>-0.008056</td>\n",
              "      <td>-0.279659</td>\n",
              "      <td>-0.525653</td>\n",
              "      <td>0.035424</td>\n",
              "      <td>-0.078499</td>\n",
              "      <td>-0.014116</td>\n",
              "    </tr>\n",
              "  </tbody>\n",
              "</table>\n",
              "</div>\n",
              "    <div class=\"colab-df-buttons\">\n",
              "\n",
              "  <div class=\"colab-df-container\">\n",
              "    <button class=\"colab-df-convert\" onclick=\"convertToInteractive('df-3427dfb6-213e-419d-a576-a1941248ad22')\"\n",
              "            title=\"Convert this dataframe to an interactive table.\"\n",
              "            style=\"display:none;\">\n",
              "\n",
              "  <svg xmlns=\"http://www.w3.org/2000/svg\" height=\"24px\" viewBox=\"0 -960 960 960\">\n",
              "    <path d=\"M120-120v-720h720v720H120Zm60-500h600v-160H180v160Zm220 220h160v-160H400v160Zm0 220h160v-160H400v160ZM180-400h160v-160H180v160Zm440 0h160v-160H620v160ZM180-180h160v-160H180v160Zm440 0h160v-160H620v160Z\"/>\n",
              "  </svg>\n",
              "    </button>\n",
              "\n",
              "  <style>\n",
              "    .colab-df-container {\n",
              "      display:flex;\n",
              "      gap: 12px;\n",
              "    }\n",
              "\n",
              "    .colab-df-convert {\n",
              "      background-color: #E8F0FE;\n",
              "      border: none;\n",
              "      border-radius: 50%;\n",
              "      cursor: pointer;\n",
              "      display: none;\n",
              "      fill: #1967D2;\n",
              "      height: 32px;\n",
              "      padding: 0 0 0 0;\n",
              "      width: 32px;\n",
              "    }\n",
              "\n",
              "    .colab-df-convert:hover {\n",
              "      background-color: #E2EBFA;\n",
              "      box-shadow: 0px 1px 2px rgba(60, 64, 67, 0.3), 0px 1px 3px 1px rgba(60, 64, 67, 0.15);\n",
              "      fill: #174EA6;\n",
              "    }\n",
              "\n",
              "    .colab-df-buttons div {\n",
              "      margin-bottom: 4px;\n",
              "    }\n",
              "\n",
              "    [theme=dark] .colab-df-convert {\n",
              "      background-color: #3B4455;\n",
              "      fill: #D2E3FC;\n",
              "    }\n",
              "\n",
              "    [theme=dark] .colab-df-convert:hover {\n",
              "      background-color: #434B5C;\n",
              "      box-shadow: 0px 1px 3px 1px rgba(0, 0, 0, 0.15);\n",
              "      filter: drop-shadow(0px 1px 2px rgba(0, 0, 0, 0.3));\n",
              "      fill: #FFFFFF;\n",
              "    }\n",
              "  </style>\n",
              "\n",
              "    <script>\n",
              "      const buttonEl =\n",
              "        document.querySelector('#df-3427dfb6-213e-419d-a576-a1941248ad22 button.colab-df-convert');\n",
              "      buttonEl.style.display =\n",
              "        google.colab.kernel.accessAllowed ? 'block' : 'none';\n",
              "\n",
              "      async function convertToInteractive(key) {\n",
              "        const element = document.querySelector('#df-3427dfb6-213e-419d-a576-a1941248ad22');\n",
              "        const dataTable =\n",
              "          await google.colab.kernel.invokeFunction('convertToInteractive',\n",
              "                                                    [key], {});\n",
              "        if (!dataTable) return;\n",
              "\n",
              "        const docLinkHtml = 'Like what you see? Visit the ' +\n",
              "          '<a target=\"_blank\" href=https://colab.research.google.com/notebooks/data_table.ipynb>data table notebook</a>'\n",
              "          + ' to learn more about interactive tables.';\n",
              "        element.innerHTML = '';\n",
              "        dataTable['output_type'] = 'display_data';\n",
              "        await google.colab.output.renderOutput(dataTable, element);\n",
              "        const docLink = document.createElement('div');\n",
              "        docLink.innerHTML = docLinkHtml;\n",
              "        element.appendChild(docLink);\n",
              "      }\n",
              "    </script>\n",
              "  </div>\n",
              "\n",
              "\n",
              "    <div id=\"df-f812c98f-1418-486a-985d-ea94aaea5ee0\">\n",
              "      <button class=\"colab-df-quickchart\" onclick=\"quickchart('df-f812c98f-1418-486a-985d-ea94aaea5ee0')\"\n",
              "                title=\"Suggest charts\"\n",
              "                style=\"display:none;\">\n",
              "\n",
              "<svg xmlns=\"http://www.w3.org/2000/svg\" height=\"24px\"viewBox=\"0 0 24 24\"\n",
              "     width=\"24px\">\n",
              "    <g>\n",
              "        <path d=\"M19 3H5c-1.1 0-2 .9-2 2v14c0 1.1.9 2 2 2h14c1.1 0 2-.9 2-2V5c0-1.1-.9-2-2-2zM9 17H7v-7h2v7zm4 0h-2V7h2v10zm4 0h-2v-4h2v4z\"/>\n",
              "    </g>\n",
              "</svg>\n",
              "      </button>\n",
              "\n",
              "<style>\n",
              "  .colab-df-quickchart {\n",
              "      --bg-color: #E8F0FE;\n",
              "      --fill-color: #1967D2;\n",
              "      --hover-bg-color: #E2EBFA;\n",
              "      --hover-fill-color: #174EA6;\n",
              "      --disabled-fill-color: #AAA;\n",
              "      --disabled-bg-color: #DDD;\n",
              "  }\n",
              "\n",
              "  [theme=dark] .colab-df-quickchart {\n",
              "      --bg-color: #3B4455;\n",
              "      --fill-color: #D2E3FC;\n",
              "      --hover-bg-color: #434B5C;\n",
              "      --hover-fill-color: #FFFFFF;\n",
              "      --disabled-bg-color: #3B4455;\n",
              "      --disabled-fill-color: #666;\n",
              "  }\n",
              "\n",
              "  .colab-df-quickchart {\n",
              "    background-color: var(--bg-color);\n",
              "    border: none;\n",
              "    border-radius: 50%;\n",
              "    cursor: pointer;\n",
              "    display: none;\n",
              "    fill: var(--fill-color);\n",
              "    height: 32px;\n",
              "    padding: 0;\n",
              "    width: 32px;\n",
              "  }\n",
              "\n",
              "  .colab-df-quickchart:hover {\n",
              "    background-color: var(--hover-bg-color);\n",
              "    box-shadow: 0 1px 2px rgba(60, 64, 67, 0.3), 0 1px 3px 1px rgba(60, 64, 67, 0.15);\n",
              "    fill: var(--button-hover-fill-color);\n",
              "  }\n",
              "\n",
              "  .colab-df-quickchart-complete:disabled,\n",
              "  .colab-df-quickchart-complete:disabled:hover {\n",
              "    background-color: var(--disabled-bg-color);\n",
              "    fill: var(--disabled-fill-color);\n",
              "    box-shadow: none;\n",
              "  }\n",
              "\n",
              "  .colab-df-spinner {\n",
              "    border: 2px solid var(--fill-color);\n",
              "    border-color: transparent;\n",
              "    border-bottom-color: var(--fill-color);\n",
              "    animation:\n",
              "      spin 1s steps(1) infinite;\n",
              "  }\n",
              "\n",
              "  @keyframes spin {\n",
              "    0% {\n",
              "      border-color: transparent;\n",
              "      border-bottom-color: var(--fill-color);\n",
              "      border-left-color: var(--fill-color);\n",
              "    }\n",
              "    20% {\n",
              "      border-color: transparent;\n",
              "      border-left-color: var(--fill-color);\n",
              "      border-top-color: var(--fill-color);\n",
              "    }\n",
              "    30% {\n",
              "      border-color: transparent;\n",
              "      border-left-color: var(--fill-color);\n",
              "      border-top-color: var(--fill-color);\n",
              "      border-right-color: var(--fill-color);\n",
              "    }\n",
              "    40% {\n",
              "      border-color: transparent;\n",
              "      border-right-color: var(--fill-color);\n",
              "      border-top-color: var(--fill-color);\n",
              "    }\n",
              "    60% {\n",
              "      border-color: transparent;\n",
              "      border-right-color: var(--fill-color);\n",
              "    }\n",
              "    80% {\n",
              "      border-color: transparent;\n",
              "      border-right-color: var(--fill-color);\n",
              "      border-bottom-color: var(--fill-color);\n",
              "    }\n",
              "    90% {\n",
              "      border-color: transparent;\n",
              "      border-bottom-color: var(--fill-color);\n",
              "    }\n",
              "  }\n",
              "</style>\n",
              "\n",
              "      <script>\n",
              "        async function quickchart(key) {\n",
              "          const quickchartButtonEl =\n",
              "            document.querySelector('#' + key + ' button');\n",
              "          quickchartButtonEl.disabled = true;  // To prevent multiple clicks.\n",
              "          quickchartButtonEl.classList.add('colab-df-spinner');\n",
              "          try {\n",
              "            const charts = await google.colab.kernel.invokeFunction(\n",
              "                'suggestCharts', [key], {});\n",
              "          } catch (error) {\n",
              "            console.error('Error during call to suggestCharts:', error);\n",
              "          }\n",
              "          quickchartButtonEl.classList.remove('colab-df-spinner');\n",
              "          quickchartButtonEl.classList.add('colab-df-quickchart-complete');\n",
              "        }\n",
              "        (() => {\n",
              "          let quickchartButtonEl =\n",
              "            document.querySelector('#df-f812c98f-1418-486a-985d-ea94aaea5ee0 button');\n",
              "          quickchartButtonEl.style.display =\n",
              "            google.colab.kernel.accessAllowed ? 'block' : 'none';\n",
              "        })();\n",
              "      </script>\n",
              "    </div>\n",
              "\n",
              "  <div id=\"id_78ff2297-517e-4a18-9bef-529a2444c524\">\n",
              "    <style>\n",
              "      .colab-df-generate {\n",
              "        background-color: #E8F0FE;\n",
              "        border: none;\n",
              "        border-radius: 50%;\n",
              "        cursor: pointer;\n",
              "        display: none;\n",
              "        fill: #1967D2;\n",
              "        height: 32px;\n",
              "        padding: 0 0 0 0;\n",
              "        width: 32px;\n",
              "      }\n",
              "\n",
              "      .colab-df-generate:hover {\n",
              "        background-color: #E2EBFA;\n",
              "        box-shadow: 0px 1px 2px rgba(60, 64, 67, 0.3), 0px 1px 3px 1px rgba(60, 64, 67, 0.15);\n",
              "        fill: #174EA6;\n",
              "      }\n",
              "\n",
              "      [theme=dark] .colab-df-generate {\n",
              "        background-color: #3B4455;\n",
              "        fill: #D2E3FC;\n",
              "      }\n",
              "\n",
              "      [theme=dark] .colab-df-generate:hover {\n",
              "        background-color: #434B5C;\n",
              "        box-shadow: 0px 1px 3px 1px rgba(0, 0, 0, 0.15);\n",
              "        filter: drop-shadow(0px 1px 2px rgba(0, 0, 0, 0.3));\n",
              "        fill: #FFFFFF;\n",
              "      }\n",
              "    </style>\n",
              "    <button class=\"colab-df-generate\" onclick=\"generateWithVariable('loadings')\"\n",
              "            title=\"Generate code using this dataframe.\"\n",
              "            style=\"display:none;\">\n",
              "\n",
              "  <svg xmlns=\"http://www.w3.org/2000/svg\" height=\"24px\"viewBox=\"0 0 24 24\"\n",
              "       width=\"24px\">\n",
              "    <path d=\"M7,19H8.4L18.45,9,17,7.55,7,17.6ZM5,21V16.75L18.45,3.32a2,2,0,0,1,2.83,0l1.4,1.43a1.91,1.91,0,0,1,.58,1.4,1.91,1.91,0,0,1-.58,1.4L9.25,21ZM18.45,9,17,7.55Zm-12,3A5.31,5.31,0,0,0,4.9,8.1,5.31,5.31,0,0,0,1,6.5,5.31,5.31,0,0,0,4.9,4.9,5.31,5.31,0,0,0,6.5,1,5.31,5.31,0,0,0,8.1,4.9,5.31,5.31,0,0,0,12,6.5,5.46,5.46,0,0,0,6.5,12Z\"/>\n",
              "  </svg>\n",
              "    </button>\n",
              "    <script>\n",
              "      (() => {\n",
              "      const buttonEl =\n",
              "        document.querySelector('#id_78ff2297-517e-4a18-9bef-529a2444c524 button.colab-df-generate');\n",
              "      buttonEl.style.display =\n",
              "        google.colab.kernel.accessAllowed ? 'block' : 'none';\n",
              "\n",
              "      buttonEl.onclick = () => {\n",
              "        google.colab.notebook.generateWithVariable('loadings');\n",
              "      }\n",
              "      })();\n",
              "    </script>\n",
              "  </div>\n",
              "\n",
              "    </div>\n",
              "  </div>\n"
            ],
            "application/vnd.google.colaboratory.intrinsic+json": {
              "type": "dataframe",
              "variable_name": "loadings",
              "summary": "{\n  \"name\": \"loadings\",\n  \"rows\": 13,\n  \"fields\": [\n    {\n      \"column\": \"PC1\",\n      \"properties\": {\n        \"dtype\": \"number\",\n        \"std\": 0.28096051678556205,\n        \"min\": -0.4169697097728827,\n        \"max\": 0.42178070656999866,\n        \"num_unique_values\": 13,\n        \"samples\": [\n          0.26533437615160776,\n          0.42178070656999866,\n          0.3095742937553876\n        ],\n        \"semantic_type\": \"\",\n        \"description\": \"\"\n      }\n    },\n    {\n      \"column\": \"PC2\",\n      \"properties\": {\n        \"dtype\": \"number\",\n        \"std\": 0.2788573034666619,\n        \"min\": -0.3790758262079742,\n        \"max\": 0.4389086208675646,\n        \"num_unique_values\": 13,\n        \"samples\": [\n          0.10585786689869853,\n          -0.07052707973484396,\n          0.3982858999426239\n        ],\n        \"semantic_type\": \"\",\n        \"description\": \"\"\n      }\n    },\n    {\n      \"column\": \"PC3\",\n      \"properties\": {\n        \"dtype\": \"number\",\n        \"std\": 0.25570470841073195,\n        \"min\": -0.2510207667083959,\n        \"max\": 0.6181129909577842,\n        \"num_unique_values\": 13,\n        \"samples\": [\n          0.31928101206703896,\n          -0.04417789447159984,\n          -0.07061580937534544\n        ],\n        \"semantic_type\": \"\",\n        \"description\": \"\"\n      }\n    },\n    {\n      \"column\": \"PC4\",\n      \"properties\": {\n        \"dtype\": \"number\",\n        \"std\": 0.28468056819154663,\n        \"min\": -0.4034112701265483,\n        \"max\": 0.48177058388677474,\n        \"num_unique_values\": 13,\n        \"samples\": [\n          0.21955128783244124,\n          -0.322653370194458,\n          0.05397499996809445\n        ],\n        \"semantic_type\": \"\",\n        \"description\": \"\"\n      }\n    },\n    {\n      \"column\": \"PC5\",\n      \"properties\": {\n        \"dtype\": \"number\",\n        \"std\": 0.2873341933316178,\n        \"min\": -0.416541328005229,\n        \"max\": 0.4323908767513902,\n        \"num_unique_values\": 13,\n        \"samples\": [\n          0.4323908767513902,\n          -0.26036459430296144,\n          0.2909808179443756\n        ],\n        \"semantic_type\": \"\",\n        \"description\": \"\"\n      }\n    },\n    {\n      \"column\": \"PC6\",\n      \"properties\": {\n        \"dtype\": \"number\",\n        \"std\": 0.25789316551624625,\n        \"min\": -0.31050193810271826,\n        \"max\": 0.6322469021218329,\n        \"num_unique_values\": 13,\n        \"samples\": [\n          0.30305895075462436,\n          0.16516707489691132,\n          0.20421764264865241\n        ],\n        \"semantic_type\": \"\",\n        \"description\": \"\"\n      }\n    },\n    {\n      \"column\": \"PC7\",\n      \"properties\": {\n        \"dtype\": \"number\",\n        \"std\": 0.27050359138227753,\n        \"min\": -0.2497279164479088,\n        \"max\": 0.5179970424133956,\n        \"num_unique_values\": 13,\n        \"samples\": [\n          -0.17422830961987568,\n          -0.05470599414820811,\n          -0.2497279164479088\n        ],\n        \"semantic_type\": \"\",\n        \"description\": \"\"\n      }\n    },\n    {\n      \"column\": \"PC8\",\n      \"properties\": {\n        \"dtype\": \"number\",\n        \"std\": 0.28795029061487704,\n        \"min\": -0.41146279683927334,\n        \"max\": 0.6225113128627439,\n        \"num_unique_values\": 13,\n        \"samples\": [\n          -0.27722942783852533,\n          -0.21324876585567673,\n          0.23557044931676663\n        ],\n        \"semantic_type\": \"\",\n        \"description\": \"\"\n      }\n    },\n    {\n      \"column\": \"PC9\",\n      \"properties\": {\n        \"dtype\": \"number\",\n        \"std\": 0.2868475314475988,\n        \"min\": -0.3835471988201053,\n        \"max\": 0.5091605035772088,\n        \"num_unique_values\": 13,\n        \"samples\": [\n          0.5091605035772088,\n          0.2475327628814489,\n          -0.3835471988201053\n        ],\n        \"semantic_type\": \"\",\n        \"description\": \"\"\n      }\n    },\n    {\n      \"column\": \"PC10\",\n      \"properties\": {\n        \"dtype\": \"number\",\n        \"std\": 0.2703284383834698,\n        \"min\": -0.5256531412041004,\n        \"max\": 0.5463993610899728,\n        \"num_unique_values\": 13,\n        \"samples\": [\n          0.025494095268003225,\n          0.08869438953240877,\n          -0.004413244478212707\n        ],\n        \"semantic_type\": \"\",\n        \"description\": \"\"\n      }\n    },\n    {\n      \"column\": \"PC11\",\n      \"properties\": {\n        \"dtype\": \"number\",\n        \"std\": 0.28059707624307473,\n        \"min\": -0.28264284719984767,\n        \"max\": 0.6271120684643076,\n        \"num_unique_values\": 13,\n        \"samples\": [\n          0.270128416585425,\n          -0.0026023408866988895,\n          -0.11480839163734646\n        ],\n        \"semantic_type\": \"\",\n        \"description\": \"\"\n      }\n    },\n    {\n      \"column\": \"PC12\",\n      \"properties\": {\n        \"dtype\": \"number\",\n        \"std\": 0.2739202305204639,\n        \"min\": -0.25321585001344815,\n        \"max\": 0.596808837606682,\n        \"num_unique_values\": 13,\n        \"samples\": [\n          -0.15541522736156962,\n          0.3743944353497641,\n          0.5426046296903101\n        ],\n        \"semantic_type\": \"\",\n        \"description\": \"\"\n      }\n    },\n    {\n      \"column\": \"PC13\",\n      \"properties\": {\n        \"dtype\": \"number\",\n        \"std\": 0.2873821487622643,\n        \"min\": -0.34935224912480706,\n        \"max\": 0.6317228022023795,\n        \"num_unique_values\": 13,\n        \"samples\": [\n          -0.15878529242384143,\n          0.5985108917698422,\n          -0.19665038309370567\n        ],\n        \"semantic_type\": \"\",\n        \"description\": \"\"\n      }\n    }\n  ]\n}"
            }
          },
          "metadata": {}
        },
        {
          "output_type": "stream",
          "name": "stdout",
          "text": [
            "\n",
            "Feature Importance (Top 5):\n"
          ]
        },
        {
          "output_type": "display_data",
          "data": {
            "text/plain": [
              "sex         1.075262\n",
              "fbs         0.849297\n",
              "age         0.778476\n",
              "trestbps    0.772343\n",
              "cp          0.758850\n",
              "dtype: float64"
            ],
            "text/html": [
              "<div>\n",
              "<style scoped>\n",
              "    .dataframe tbody tr th:only-of-type {\n",
              "        vertical-align: middle;\n",
              "    }\n",
              "\n",
              "    .dataframe tbody tr th {\n",
              "        vertical-align: top;\n",
              "    }\n",
              "\n",
              "    .dataframe thead th {\n",
              "        text-align: right;\n",
              "    }\n",
              "</style>\n",
              "<table border=\"1\" class=\"dataframe\">\n",
              "  <thead>\n",
              "    <tr style=\"text-align: right;\">\n",
              "      <th></th>\n",
              "      <th>0</th>\n",
              "    </tr>\n",
              "  </thead>\n",
              "  <tbody>\n",
              "    <tr>\n",
              "      <th>sex</th>\n",
              "      <td>1.075262</td>\n",
              "    </tr>\n",
              "    <tr>\n",
              "      <th>fbs</th>\n",
              "      <td>0.849297</td>\n",
              "    </tr>\n",
              "    <tr>\n",
              "      <th>age</th>\n",
              "      <td>0.778476</td>\n",
              "    </tr>\n",
              "    <tr>\n",
              "      <th>trestbps</th>\n",
              "      <td>0.772343</td>\n",
              "    </tr>\n",
              "    <tr>\n",
              "      <th>cp</th>\n",
              "      <td>0.758850</td>\n",
              "    </tr>\n",
              "  </tbody>\n",
              "</table>\n",
              "</div><br><label><b>dtype:</b> float64</label>"
            ]
          },
          "metadata": {}
        },
        {
          "output_type": "display_data",
          "data": {
            "text/plain": [
              "<Figure size 800x400 with 1 Axes>"
            ],
            "image/png": "[encoded data removed]"
          },
          "metadata": {}
        }
      ]
    },
    {
      "cell_type": "markdown",
      "source": [
        "I selected all that features based on the PCA results, the loading matrix shows each features contribution to the principal components (PC1-PC13).\n",
        "High loading values indicate that a feature strongly influences data variation in that component, highlighting its importance in explaining the datasets variance."
      ],
      "metadata": {
        "id": "jyZ9wg57EAhp"
      }
    },
    {
      "cell_type": "markdown",
      "source": [
        "## Clustering - 1 (30 points)"
      ],
      "metadata": {
        "id": "r4FDrAR_nquT"
      }
    },
    {
      "cell_type": "markdown",
      "source": [
        "\n",
        "### 1. Create a cluster model using KMeans with the number of clusters from 1 to 10. (10 points)"
      ],
      "metadata": {
        "id": "vkUlnS0NqAsl"
      }
    },
    {
      "cell_type": "code",
      "source": [
        "best_features = ['sex', 'fbs', 'age', 'trestbps', 'cp']\n",
        "X_selected = df[best_features]\n",
        "\n",
        "scaler = StandardScaler()\n",
        "X_scaled = scaler.fit_transform(X_selected)"
      ],
      "metadata": {
        "id": "s-iP68oKntBC"
      },
      "execution_count": 69,
      "outputs": []
    },
    {
      "cell_type": "code",
      "source": [
        "\n",
        "inertia = []\n",
        "for k in range(1, 11):\n",
        "    kmeans = KMeans(n_clusters=k, random_state=42)\n",
        "    kmeans.fit(X_scaled)\n",
        "    inertia.append(kmeans.inertia_)\n",
        "\n",
        "sse_table = pd.DataFrame({ 'k': list(range(1, 11)), 'SSE': inertia })\n",
        "print(sse_table)"
      ],
      "metadata": {
        "colab": {
          "base_uri": "https://localhost:8080/"
        },
        "id": "cp-0oXfXWeGQ",
        "outputId": "39e4c5a7-b1cf-43d8-9e48-d36aa99622ee"
      },
      "execution_count": 70,
      "outputs": [
        {
          "output_type": "stream",
          "name": "stdout",
          "text": [
            "    k          SSE\n",
            "0   1  5125.000000\n",
            "1   2  4174.155871\n",
            "2   3  3254.541482\n",
            "3   4  2634.960416\n",
            "4   5  2359.669753\n",
            "5   6  2062.550826\n",
            "6   7  1905.039767\n",
            "7   8  1817.056825\n",
            "8   9  1640.159313\n",
            "9  10  1491.801533\n"
          ]
        }
      ]
    },
    {
      "cell_type": "markdown",
      "source": [
        "SSE decreases steadily as k increases, with the most noticeable improvement up to k = 3. Beyond that, the reduction becomes marginal, suggesting that k = 3 is the optimal number of clusters."
      ],
      "metadata": {
        "id": "3vdOzQ71HrOb"
      }
    },
    {
      "cell_type": "markdown",
      "source": [
        "### 2. Create an elbow diagram, determine the best number of clusters according to the elbow method, and provide your reasoning. (10 points)"
      ],
      "metadata": {
        "id": "VEhfisw0FPzZ"
      }
    },
    {
      "cell_type": "code",
      "source": [
        "plt.figure(figsize=(8,5))\n",
        "plt.plot(range(1, 11), inertia, marker='o', linestyle='-')\n",
        "plt.title('Elbow Method (using PCA-selected features)')\n",
        "plt.xlabel('Number of clusters (k)')\n",
        "plt.ylabel('Inertia (SSE)')\n",
        "plt.grid(True)\n",
        "plt.show()"
      ],
      "metadata": {
        "colab": {
          "base_uri": "https://localhost:8080/",
          "height": 487
        },
        "id": "JwSVUrtFFTJY",
        "outputId": "d5c9ac6e-85be-4c25-cdc8-be3de07e9d3d"
      },
      "execution_count": 71,
      "outputs": [
        {
          "output_type": "display_data",
          "data": {
            "text/plain": [
              "<Figure size 800x500 with 1 Axes>"
            ],
            "image/png": "[encoded data removed]"
          },
          "metadata": {}
        }
      ]
    },
    {
      "cell_type": "markdown",
      "source": [
        "Based on the Elbow Method, the curve bends in k = 3, as SSE reduction slows beyond this point. So, the optimal number of clusters is 3."
      ],
      "metadata": {
        "id": "R4UF72h6H5T6"
      }
    },
    {
      "cell_type": "markdown",
      "source": [
        "### 3. Calculate the silhouette coefficient value for k=1 to k=10. Based on the silhouette value, what is the best number of clusters? Is it the same as the elbow method? (10 points)"
      ],
      "metadata": {
        "id": "fPrIi5sIFTqc"
      }
    },
    {
      "cell_type": "code",
      "source": [
        "silhouette_scores = []\n",
        "for k in range(2, 11):\n",
        "    kmeans = KMeans(n_clusters=k, random_state=42)\n",
        "    labels = kmeans.fit_predict(X_scaled)\n",
        "    score = silhouette_score(X_scaled, labels)\n",
        "    silhouette_scores.append(score)\n",
        "\n",
        "plt.figure(figsize=(8,5))\n",
        "plt.plot(range(2, 11), silhouette_scores, marker='o')\n",
        "plt.title('Silhouette Score for k=2 to k=10')\n",
        "plt.xlabel('Number of clusters (k)')\n",
        "plt.ylabel('Silhouette Coefficient')\n",
        "plt.grid(True)\n",
        "plt.show()\n",
        "\n",
        "for i, score in enumerate(silhouette_scores, start=2):\n",
        "    print(f\"k={i}, silhouette={score:.3f}\")\n"
      ],
      "metadata": {
        "colab": {
          "base_uri": "https://localhost:8080/",
          "height": 643
        },
        "id": "8qRM_OwIGOfS",
        "outputId": "cac97e8d-1b85-4ddf-a54f-08da08cc30c1"
      },
      "execution_count": 72,
      "outputs": [
        {
          "output_type": "display_data",
          "data": {
            "text/plain": [
              "<Figure size 800x500 with 1 Axes>"
            ],
            "image/png": "[encoded data removed]"
          },
          "metadata": {}
        },
        {
          "output_type": "stream",
          "name": "stdout",
          "text": [
            "k=2, silhouette=0.184\n",
            "k=3, silhouette=0.236\n",
            "k=4, silhouette=0.275\n",
            "k=5, silhouette=0.283\n",
            "k=6, silhouette=0.308\n",
            "k=7, silhouette=0.281\n",
            "k=8, silhouette=0.300\n",
            "k=9, silhouette=0.285\n",
            "k=10, silhouette=0.306\n"
          ]
        }
      ]
    },
    {
      "cell_type": "markdown",
      "source": [
        "The silhouette coefficient values gradually increase from k = 2 (0.184) to k = 6 (0.308), indicating that the quality of clustering improves as the number of clusters increases up to that point. After k = 6, the scores fluctuate slightly without significant improvement, suggesting potential over-segmentation. Therefore, k = 6 provides the most balanced and well-separated clustering structure among all tested values. With this result, it show that different method can suggest different optimal k values since the elbow method reccomend the k as 3."
      ],
      "metadata": {
        "id": "f_dwGGpPJA_J"
      }
    },
    {
      "cell_type": "markdown",
      "source": [
        "## Clustering - 2 (20 points)"
      ],
      "metadata": {
        "id": "7oltzFLAntdB"
      }
    },
    {
      "cell_type": "markdown",
      "source": [
        "\n",
        "### 1. Create a cluster model using DBSCAN. How many clusters are produced? (10 points)"
      ],
      "metadata": {
        "id": "boK5RCweqEvf"
      }
    },
    {
      "cell_type": "code",
      "source": [
        "# Create DBSCAN model\n",
        "dbscan = DBSCAN(eps=0.8, min_samples=6)\n",
        "labels_dbscan = dbscan.fit_predict(X_scaled)\n",
        "\n",
        "# Count clusters (excluding noise -1)\n",
        "n_clusters_dbscan = len(set(labels_dbscan)) - (1 if -1 in labels_dbscan else 0)\n",
        "print(f\"Number of clusters produced: {n_clusters_dbscan}\")\n",
        "\n",
        "# Count noise points\n",
        "n_noise = list(labels_dbscan).count(-1)\n",
        "print(f\"Number of noise points: {n_noise}\")\n",
        "\n",
        "# Get cluster sizes\n",
        "unique, counts = np.unique(labels_dbscan, return_counts=True)\n",
        "cluster_info = dict(zip(unique, counts))\n",
        "print(f\"Cluster sizes: {cluster_info}\")\n",
        "\n",
        "# Visualization\n",
        "plt.figure(figsize=(8, 5))\n",
        "plt.scatter(X_scaled[:, 0], X_scaled[:, 1], c=labels_dbscan, cmap='viridis', s=50)\n",
        "plt.title('DBSCAN Clustering Results')\n",
        "plt.xlabel('Feature 1')\n",
        "plt.ylabel('Feature 2')\n",
        "plt.colorbar(label='Cluster')\n",
        "plt.show()"
      ],
      "metadata": {
        "colab": {
          "base_uri": "https://localhost:8080/",
          "height": 559
        },
        "id": "7d7g5z6FnvSW",
        "outputId": "b0dce0f6-8f51-4604-82af-714c6aed4530"
      },
      "execution_count": 73,
      "outputs": [
        {
          "output_type": "stream",
          "name": "stdout",
          "text": [
            "Number of clusters produced: 22\n",
            "Number of noise points: 114\n",
            "Cluster sizes: {np.int64(-1): np.int64(114), np.int64(0): np.int64(306), np.int64(1): np.int64(34), np.int64(2): np.int64(14), np.int64(3): np.int64(77), np.int64(4): np.int64(41), np.int64(5): np.int64(36), np.int64(6): np.int64(133), np.int64(7): np.int64(80), np.int64(8): np.int64(7), np.int64(9): np.int64(10), np.int64(10): np.int64(10), np.int64(11): np.int64(84), np.int64(12): np.int64(14), np.int64(13): np.int64(10), np.int64(14): np.int64(8), np.int64(15): np.int64(7), np.int64(16): np.int64(6), np.int64(17): np.int64(6), np.int64(18): np.int64(7), np.int64(19): np.int64(8), np.int64(20): np.int64(6), np.int64(21): np.int64(7)}\n"
          ]
        },
        {
          "output_type": "display_data",
          "data": {
            "text/plain": [
              "<Figure size 800x500 with 2 Axes>"
            ],
            "image/png": "[encoded data removed]"
          },
          "metadata": {}
        }
      ]
    },
    {
      "cell_type": "markdown",
      "source": [
        "Since I use 5 best features, I decided to set min_samples = 6 (number of features + 1) following the common guideline for DBSCAN. After experimenting with different eps values, I chose eps = 0.8 as the maximum distance parameter. The result show number of cluster produce are 22 and number of noise points are 114, This means that from 1025 total data points, 114 data points (11.1%) were classified as noise (outliers). These noise points are isolated data points that don't belong to any cluster."
      ],
      "metadata": {
        "id": "St6r-0npx10v"
      }
    },
    {
      "cell_type": "markdown",
      "source": [
        "### 2. What are the silhouette coefficient and DBI values of the clusters produced by DBSCAN? (10 points)"
      ],
      "metadata": {
        "id": "6EjXOPfQJwgq"
      }
    },
    {
      "cell_type": "code",
      "source": [
        "# Calculate Silhouette Score\n",
        "silhouette_samples = silhouette_score(X_scaled[labels_dbscan != -1], labels_dbscan[labels_dbscan != -1])\n",
        "print(f\"Silhouette Score: {silhouette_samples}\")\n",
        "\n",
        "# Calculate Davies-Bouldin Index\n",
        "db = davies_bouldin_score(X_scaled[labels_dbscan != -1], labels_dbscan[labels_dbscan != -1])\n",
        "print(f\"Davies-Bouldin Index: {db}\")"
      ],
      "metadata": {
        "colab": {
          "base_uri": "https://localhost:8080/"
        },
        "id": "Rp9L-FB8Qy76",
        "outputId": "303f01c2-1e4e-4a42-94da-6bd665d19aef"
      },
      "execution_count": 74,
      "outputs": [
        {
          "output_type": "stream",
          "name": "stdout",
          "text": [
            "Silhouette Score: 0.17371095179048945\n",
            "Davies-Bouldin Index: 1.0040077485484238\n"
          ]
        }
      ]
    },
    {
      "cell_type": "markdown",
      "source": [
        "After building the DBSCAN model with eps=0.8 and min_samples=6, I evaluated the\n",
        "clustering quality using two metrics which are silhoutte score: 0.173 and DBI: 1.004. The silhoutte score indicates that the clusters overlap significantly and the point are not clearly seperated from neighboring cluster. The Davies-Bouldin Index (DBI) measures the average similarity between each cluster\n",
        "and its most similar cluster."
      ],
      "metadata": {
        "id": "Dble3qHn1GzB"
      }
    },
    {
      "cell_type": "markdown",
      "source": [
        "## Feature Selection 2 (30 points)"
      ],
      "metadata": {
        "id": "xYzbdsg3nvwi"
      }
    },
    {
      "cell_type": "markdown",
      "source": [
        "\n",
        "After knowing the performance of the clustering results on the KMeans and DBSCAN models based on the silhouette coefficient and DBI, perform a feature selection process to improve the silhouette coefficient and DBI values. You are allowed to use an iterative process or other methods.\n",
        "\n",
        "### 1. Which features provide the best silhouette coefficient/DBI values? Include the feature selection process."
      ],
      "metadata": {
        "id": "Rg1Zb3CNqHg2"
      }
    },
    {
      "cell_type": "code",
      "source": [
        "\n",
        "all_features = ['age', 'sex', 'cp', 'trestbps', 'chol', 'fbs', 'restecg',\n",
        "                'thalach', 'exang', 'oldpeak', 'slope', 'ca', 'thal']\n",
        "\n",
        "# current best features\n",
        "current_features = ['sex', 'fbs', 'age', 'trestbps', 'cp']\n",
        "\n",
        "# Test current features\n",
        "X_current = df[current_features]\n",
        "scaler = StandardScaler()\n",
        "X_current_scaled = scaler.fit_transform(X_current)\n",
        "\n",
        "# KMeans with current features\n",
        "kmeans_current = KMeans(n_clusters=3, random_state=42)\n",
        "labels_current = kmeans_current.fit_predict(X_current_scaled)\n",
        "sil_current = silhouette_score(X_current_scaled, labels_current)\n",
        "dbi_current = davies_bouldin_score(X_current_scaled, labels_current)\n",
        "\n",
        "print(\"CURRENT FEATURES (from PCA):\", current_features)\n",
        "print(f\"KMeans (k=3) - Silhouette: {sil_current:.3f}, DBI: {dbi_current:.3f}\\n\")\n",
        "\n",
        "# Different feature combinations\n",
        "print(\"Testing different 5-feature combinations...\\n\")\n",
        "\n",
        "results = []\n",
        "\n",
        "# Test a sample of combinations\n",
        "import random\n",
        "random.seed(42)\n",
        "\n",
        "all_combinations = list(combinations(all_features, 5))\n",
        "sample_combinations = random.sample(all_combinations, min(50, len(all_combinations)))\n",
        "\n",
        "for i, combo in enumerate(sample_combinations, 1):\n",
        "    X_test = df[list(combo)]\n",
        "    X_test_scaled = scaler.fit_transform(X_test)\n",
        "\n",
        "    # Test with KMeans k=3\n",
        "    kmeans_test = KMeans(n_clusters=3, random_state=42)\n",
        "    labels_test = kmeans_test.fit_predict(X_test_scaled)\n",
        "\n",
        "    sil = silhouette_score(X_test_scaled, labels_test)\n",
        "    dbi = davies_bouldin_score(X_test_scaled, labels_test)\n",
        "\n",
        "    results.append({\n",
        "        'features': combo,\n",
        "        'silhouette': sil,\n",
        "        'dbi': dbi\n",
        "    })\n",
        "\n",
        "    if i % 10 == 0:\n",
        "        print(f\"Tested {i}/{len(sample_combinations)} combinations...\")\n",
        "\n",
        "# Result\n",
        "results_df = pd.DataFrame(results)\n",
        "\n",
        "print(\"\\n\" + \"=\"*70)\n",
        "print(\"TOP 5 FEATURE COMBINATIONS (by Silhouette Score):\")\n",
        "print(\"=\"*70)\n",
        "top_sil = results_df.nlargest(5, 'silhouette')\n",
        "for idx, row in top_sil.iterrows():\n",
        "    print(f\"Features: {row['features']}\")\n",
        "    print(f\"  Silhouette: {row['silhouette']:.3f}, DBI: {row['dbi']:.3f}\\n\")\n",
        "\n",
        "print(\"=\"*70)\n",
        "print(\"TOP 5 FEATURE COMBINATIONS (by DBI - lower is better):\")\n",
        "print(\"=\"*70)\n",
        "top_dbi = results_df.nsmallest(5, 'dbi')\n",
        "for idx, row in top_dbi.iterrows():\n",
        "    print(f\"Features: {row['features']}\")\n",
        "    print(f\"  Silhouette: {row['silhouette']:.3f}, DBI: {row['dbi']:.3f}\\n\")"
      ],
      "metadata": {
        "colab": {
          "base_uri": "https://localhost:8080/"
        },
        "id": "bQ0XhQrfnx7E",
        "outputId": "c6c58936-5c11-4291-aab1-f32bc626ce75"
      },
      "execution_count": null,
      "outputs": [
        {
          "output_type": "stream",
          "name": "stdout",
          "text": [
            "CURRENT FEATURES (from PCA): ['sex', 'fbs', 'age', 'trestbps', 'cp']\n",
            "KMeans (k=3) - Silhouette: 0.236, DBI: 1.586\n",
            "\n",
            "Testing different 5-feature combinations...\n",
            "\n",
            "Tested 10/50 combinations...\n",
            "Tested 20/50 combinations...\n",
            "Tested 30/50 combinations...\n",
            "Tested 40/50 combinations...\n",
            "Tested 50/50 combinations...\n",
            "\n",
            "======================================================================\n",
            "TOP 5 FEATURE COMBINATIONS (by Silhouette Score):\n",
            "======================================================================\n",
            "Features: ('cp', 'trestbps', 'fbs', 'thalach', 'exang')\n",
            "  Silhouette: 0.347, DBI: 1.165\n",
            "\n",
            "Features: ('cp', 'trestbps', 'fbs', 'exang', 'oldpeak')\n",
            "  Silhouette: 0.340, DBI: 1.231\n",
            "\n",
            "Features: ('trestbps', 'fbs', 'exang', 'oldpeak', 'slope')\n",
            "  Silhouette: 0.333, DBI: 1.273\n",
            "\n",
            "Features: ('sex', 'chol', 'thalach', 'exang', 'oldpeak')\n",
            "  Silhouette: 0.312, DBI: 1.258\n",
            "\n",
            "Features: ('age', 'fbs', 'exang', 'oldpeak', 'ca')\n",
            "  Silhouette: 0.312, DBI: 1.381\n",
            "\n",
            "======================================================================\n",
            "TOP 5 FEATURE COMBINATIONS (by DBI - lower is better):\n",
            "======================================================================\n",
            "Features: ('cp', 'trestbps', 'fbs', 'thalach', 'exang')\n",
            "  Silhouette: 0.347, DBI: 1.165\n",
            "\n",
            "Features: ('cp', 'trestbps', 'fbs', 'exang', 'oldpeak')\n",
            "  Silhouette: 0.340, DBI: 1.231\n",
            "\n",
            "Features: ('sex', 'chol', 'thalach', 'exang', 'oldpeak')\n",
            "  Silhouette: 0.312, DBI: 1.258\n",
            "\n",
            "Features: ('trestbps', 'fbs', 'exang', 'oldpeak', 'slope')\n",
            "  Silhouette: 0.333, DBI: 1.273\n",
            "\n",
            "Features: ('age', 'fbs', 'thalach', 'slope', 'ca')\n",
            "  Silhouette: 0.294, DBI: 1.298\n",
            "\n"
          ]
        }
      ]
    },
    {
      "cell_type": "markdown",
      "source": [
        "After get the result of clustering in KMeans and DBSCAN, this step are usefull to increase the quality of clustering with the combination of best feature. The quality will be count with Silhoutte Coeffcient and DBI where the current features yielded a Silhouette Coefficient of 0.173 and a DBI of 1.004. And after terative feature combination testing, i choose the combination of (cp, trestbps, fbs, thalach, exang) This combination achieved the highest Silhouette Coefficient (0.347) and a comparable DBI (1.165). This indicates that, although the DBI slightly increased, the clusters became more distinct and better separated based on the Silhouette Score improvement."
      ],
      "metadata": {
        "id": "jCUkw8Tx46Tt"
      }
    },
    {
      "cell_type": "markdown",
      "source": [
        "### 2. Why did you use that feature selection method?"
      ],
      "metadata": {
        "id": "xl3Dxth_Tae-"
      }
    },
    {
      "cell_type": "markdown",
      "source": [
        "Compared to the initial PCA-based feature selection, which produced a Silhouette Score of 0.173 and a DBI of 1.004, the iterative feature combination approach achieved a higher Silhouette Score of 0.347 and a comparable DBI of 1.165. This suggests that although the DBI slightly increased, the clustering structure became more distinct and better separated, reflecting an overall improvement in clustering quality."
      ],
      "metadata": {
        "id": "Mf-7IIN26y6t"
      }
    },
    {
      "cell_type": "markdown",
      "source": [
        "## BONUS - CHALLENGE (30 points)"
      ],
      "metadata": {
        "id": "OFIT6jOVnzxp"
      }
    },
    {
      "cell_type": "markdown",
      "source": [
        "Build an ANNOY model using the data that has gone through the data preprocessing stage. Perform a query with the 5 nearest values. Does ANNOY query the best cluster you have formed?"
      ],
      "metadata": {
        "id": "mLspzwBXqKkU"
      }
    },
    {
      "cell_type": "code",
      "source": [
        "!pip install annoy"
      ],
      "metadata": {
        "colab": {
          "base_uri": "https://localhost:8080/"
        },
        "id": "bctFPXIy96gk",
        "outputId": "a8375ce3-fce2-4d2d-f5db-4a6709725e61"
      },
      "execution_count": 56,
      "outputs": [
        {
          "output_type": "stream",
          "name": "stdout",
          "text": [
            "Collecting annoy\n",
            "  Downloading annoy-1.17.3.tar.gz (647 kB)\n",
            "\u001b[?25l     \u001b[90m━━━━━━━━━━━━━━━━━━━━━━━━━━━━━━━━━━━━━━━━\u001b[0m \u001b[32m0.0/647.5 kB\u001b[0m \u001b[31m?\u001b[0m eta \u001b[36m-:--:--\u001b[0m\r\u001b[2K     \u001b[91m━━━━━━━━━━━━━━━━━━━━━━━━━━━━━━━━━━━━━\u001b[0m\u001b[91m╸\u001b[0m \u001b[32m645.1/647.5 kB\u001b[0m \u001b[31m22.1 MB/s\u001b[0m eta \u001b[36m0:00:01\u001b[0m\r\u001b[2K     \u001b[90m━━━━━━━━━━━━━━━━━━━━━━━━━━━━━━━━━━━━━━\u001b[0m \u001b[32m647.5/647.5 kB\u001b[0m \u001b[31m11.1 MB/s\u001b[0m eta \u001b[36m0:00:00\u001b[0m\n",
            "\u001b[?25h  Preparing metadata (setup.py) ... \u001b[?25l\u001b[?25hdone\n",
            "Building wheels for collected packages: annoy\n",
            "  Building wheel for annoy (setup.py) ... \u001b[?25l\u001b[?25hdone\n",
            "  Created wheel for annoy: filename=annoy-1.17.3-cp312-cp312-linux_x86_64.whl size=551807 sha256=d31d5f120a9e9b2c54f2398d69dbf4d4897f4f7e66999ac7e2ed655a2175463b\n",
            "  Stored in directory: /root/.cache/pip/wheels/db/b9/53/a3b2d1fe1743abadddec6aa541294b24fdbc39d7800bc57311\n",
            "Successfully built annoy\n",
            "Installing collected packages: annoy\n",
            "Successfully installed annoy-1.17.3\n"
          ]
        }
      ]
    },
    {
      "cell_type": "code",
      "source": [
        "from annoy import AnnoyIndex\n",
        "import time"
      ],
      "metadata": {
        "id": "zktr70f5n0Ic"
      },
      "execution_count": 61,
      "outputs": []
    },
    {
      "cell_type": "code",
      "source": [
        "# best features from before\n",
        "best_features = ['cp', 'trestbps', 'fbs', 'thalach', 'exang']\n",
        "X = df[best_features].values"
      ],
      "metadata": {
        "id": "g5IFL4fmqQjl"
      },
      "execution_count": 58,
      "outputs": []
    },
    {
      "cell_type": "code",
      "source": [
        "# Standardisasi data\n",
        "scaler = StandardScaler()\n",
        "X_scaled = scaler.fit_transform(X)\n",
        "\n",
        "# Parameter\n",
        "k = 5\n",
        "n_samples = X_scaled.shape[0]\n",
        "dim = X_scaled.shape[1]"
      ],
      "metadata": {
        "id": "vn11C9VC-_uq"
      },
      "execution_count": 59,
      "outputs": []
    },
    {
      "cell_type": "code",
      "source": [
        "# ANNOY model\n",
        "print(\"\\nRunning Annoy...\")\n",
        "annoy_index = AnnoyIndex(dim, 'euclidean')\n",
        "for i in range(n_samples):\n",
        "    annoy_index.add_item(i, X_scaled[i])\n",
        "start = time.time()\n",
        "annoy_index.build(10)\n",
        "neighbors = annoy_index.get_nns_by_item(0, k, include_distances=True)\n",
        "annoy_time = time.time() - start\n",
        "print(f\"Annoy build + query time: {annoy_time:.4f} seconds\")\n",
        "print(f\"\\nQuery Index: 0\")\n",
        "print(f\"Nearest Neighbors (indices): {neighbors[0]}\")\n",
        "print(f\"Distances: {neighbors[1]}\")"
      ],
      "metadata": {
        "colab": {
          "base_uri": "https://localhost:8080/"
        },
        "id": "egKql5dS_PXc",
        "outputId": "4af32eaf-90fd-45e6-b2c8-f8b15e01bcb9"
      },
      "execution_count": 62,
      "outputs": [
        {
          "output_type": "stream",
          "name": "stdout",
          "text": [
            "\n",
            "Running Annoy...\n",
            "Annoy build + query time: 0.0185 seconds\n",
            "\n",
            "Query Index: 0\n",
            "Nearest Neighbors (indices): [0, 634, 671, 863, 163]\n",
            "Distances: [0.0, 0.0, 0.0, 0.0, 0.10405442863702774]\n"
          ]
        }
      ]
    },
    {
      "cell_type": "markdown",
      "source": [
        "The Annoy model was successfully built using the best feature combination (cp, trestbps, fbs, thalach, and exang).\n",
        "The query for the 5 nearest neighbors returned items with indices [0, 634, 671, 863, 163]. The distance values are all very close to 0, which indicates that these records have almost identical values in the selected feature space.\n",
        "This suggests that the chosen feature subset effectively groups similar patient profiles together, which aligns with the previously formed clusters.\n",
        "\n",
        "If compared these neighbors with the cluster assignments from KMeans, we can observe whether Annoy retrieves items from the same cluster.\n",
        "If most or all neighbors belong to the same cluster as the query item, this confirms that the Annoy index captures the same structure identified by KMeans, mean the approximate nearest neighbor search is consistent with the best cluster model."
      ],
      "metadata": {
        "id": "I-0D1ehk_rGW"
      }
    }
  ]
}