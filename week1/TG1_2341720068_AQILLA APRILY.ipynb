{
 "cells": [
  {
   "cell_type": "code",
   "execution_count": 4,
   "id": "3e120e2e",
   "metadata": {},
   "outputs": [
    {
     "name": "stdout",
     "output_type": "stream",
     "text": [
      "Requirement already satisfied: pyprep in d:\\anaconda\\lib\\site-packages (0.5.0)\n",
      "Requirement already satisfied: mne>=1.3.0 in d:\\anaconda\\lib\\site-packages (from pyprep) (1.10.1)\n",
      "Requirement already satisfied: numpy>=1.20.2 in d:\\anaconda\\lib\\site-packages (from pyprep) (1.26.4)\n",
      "Requirement already satisfied: psutil>=5.4.3 in d:\\anaconda\\lib\\site-packages (from pyprep) (5.9.0)\n",
      "Requirement already satisfied: scipy>=1.6.3 in d:\\anaconda\\lib\\site-packages (from pyprep) (1.13.1)\n",
      "Requirement already satisfied: decorator in d:\\anaconda\\lib\\site-packages (from mne>=1.3.0->pyprep) (5.1.1)\n",
      "Requirement already satisfied: jinja2 in d:\\anaconda\\lib\\site-packages (from mne>=1.3.0->pyprep) (3.1.4)\n",
      "Requirement already satisfied: lazy-loader>=0.3 in d:\\anaconda\\lib\\site-packages (from mne>=1.3.0->pyprep) (0.4)\n",
      "Requirement already satisfied: matplotlib>=3.7 in d:\\anaconda\\lib\\site-packages (from mne>=1.3.0->pyprep) (3.9.2)\n",
      "Requirement already satisfied: packaging in d:\\anaconda\\lib\\site-packages (from mne>=1.3.0->pyprep) (24.1)\n",
      "Requirement already satisfied: pooch>=1.5 in d:\\anaconda\\lib\\site-packages (from mne>=1.3.0->pyprep) (1.8.2)\n",
      "Requirement already satisfied: tqdm in d:\\anaconda\\lib\\site-packages (from mne>=1.3.0->pyprep) (4.66.5)\n",
      "Requirement already satisfied: contourpy>=1.0.1 in d:\\anaconda\\lib\\site-packages (from matplotlib>=3.7->mne>=1.3.0->pyprep) (1.2.0)\n",
      "Requirement already satisfied: cycler>=0.10 in d:\\anaconda\\lib\\site-packages (from matplotlib>=3.7->mne>=1.3.0->pyprep) (0.11.0)\n",
      "Requirement already satisfied: fonttools>=4.22.0 in d:\\anaconda\\lib\\site-packages (from matplotlib>=3.7->mne>=1.3.0->pyprep) (4.51.0)\n",
      "Requirement already satisfied: kiwisolver>=1.3.1 in d:\\anaconda\\lib\\site-packages (from matplotlib>=3.7->mne>=1.3.0->pyprep) (1.4.4)\n",
      "Requirement already satisfied: pillow>=8 in d:\\anaconda\\lib\\site-packages (from matplotlib>=3.7->mne>=1.3.0->pyprep) (10.4.0)\n",
      "Requirement already satisfied: pyparsing>=2.3.1 in d:\\anaconda\\lib\\site-packages (from matplotlib>=3.7->mne>=1.3.0->pyprep) (3.1.2)\n",
      "Requirement already satisfied: python-dateutil>=2.7 in d:\\anaconda\\lib\\site-packages (from matplotlib>=3.7->mne>=1.3.0->pyprep) (2.9.0.post0)\n",
      "Requirement already satisfied: platformdirs>=2.5.0 in d:\\anaconda\\lib\\site-packages (from pooch>=1.5->mne>=1.3.0->pyprep) (3.10.0)\n",
      "Requirement already satisfied: requests>=2.19.0 in d:\\anaconda\\lib\\site-packages (from pooch>=1.5->mne>=1.3.0->pyprep) (2.32.3)\n",
      "Requirement already satisfied: MarkupSafe>=2.0 in d:\\anaconda\\lib\\site-packages (from jinja2->mne>=1.3.0->pyprep) (2.1.3)\n",
      "Requirement already satisfied: colorama in d:\\anaconda\\lib\\site-packages (from tqdm->mne>=1.3.0->pyprep) (0.4.6)\n",
      "Requirement already satisfied: six>=1.5 in d:\\anaconda\\lib\\site-packages (from python-dateutil>=2.7->matplotlib>=3.7->mne>=1.3.0->pyprep) (1.16.0)\n",
      "Requirement already satisfied: charset-normalizer<4,>=2 in d:\\anaconda\\lib\\site-packages (from requests>=2.19.0->pooch>=1.5->mne>=1.3.0->pyprep) (3.3.2)\n",
      "Requirement already satisfied: idna<4,>=2.5 in d:\\anaconda\\lib\\site-packages (from requests>=2.19.0->pooch>=1.5->mne>=1.3.0->pyprep) (3.7)\n",
      "Requirement already satisfied: urllib3<3,>=1.21.1 in d:\\anaconda\\lib\\site-packages (from requests>=2.19.0->pooch>=1.5->mne>=1.3.0->pyprep) (2.2.3)\n",
      "Requirement already satisfied: certifi>=2017.4.17 in d:\\anaconda\\lib\\site-packages (from requests>=2.19.0->pooch>=1.5->mne>=1.3.0->pyprep) (2025.1.31)\n"
     ]
    }
   ],
   "source": [
    "!pip install pyprep"
   ]
  },
  {
   "cell_type": "code",
   "execution_count": null,
   "id": "09e4f81b",
   "metadata": {},
   "outputs": [
    {
     "name": "stdout",
     "output_type": "stream",
     "text": [
      "pyprep installed\n"
     ]
    }
   ],
   "source": [
    "import pyprep\n",
    "print(\"pyprep installed\")"
   ]
  },
  {
   "cell_type": "code",
   "execution_count": 6,
   "id": "931a6b3f",
   "metadata": {},
   "outputs": [
    {
     "name": "stdout",
     "output_type": "stream",
     "text": [
      "Requirement already satisfied: scipy in d:\\anaconda\\lib\\site-packages (1.13.1)\n",
      "Requirement already satisfied: numpy<2.3,>=1.22.4 in d:\\anaconda\\lib\\site-packages (from scipy) (1.26.4)\n"
     ]
    }
   ],
   "source": [
    "!pip install scipy"
   ]
  },
  {
   "cell_type": "code",
   "execution_count": 7,
   "id": "1ecf49b2",
   "metadata": {},
   "outputs": [
    {
     "name": "stdout",
     "output_type": "stream",
     "text": [
      "scipy installed\n"
     ]
    }
   ],
   "source": [
    "import scipy\n",
    "print(\"scipy installed\")"
   ]
  },
  {
   "cell_type": "code",
   "execution_count": 8,
   "id": "27cad4f7",
   "metadata": {},
   "outputs": [
    {
     "name": "stdout",
     "output_type": "stream",
     "text": [
      "Collecting wandb\n",
      "  Using cached wandb-0.21.3-py3-none-win_amd64.whl.metadata (10 kB)\n",
      "Requirement already satisfied: click>=8.0.1 in d:\\anaconda\\lib\\site-packages (from wandb) (8.1.7)\n",
      "Requirement already satisfied: gitpython!=3.1.29,>=1.0.0 in d:\\anaconda\\lib\\site-packages (from wandb) (3.1.43)\n",
      "Requirement already satisfied: packaging in d:\\anaconda\\lib\\site-packages (from wandb) (24.1)\n",
      "Requirement already satisfied: platformdirs in d:\\anaconda\\lib\\site-packages (from wandb) (3.10.0)\n",
      "Requirement already satisfied: protobuf!=4.21.0,!=5.28.0,<7,>=3.19.0 in d:\\anaconda\\lib\\site-packages (from wandb) (4.25.3)\n",
      "Requirement already satisfied: pydantic<3 in d:\\anaconda\\lib\\site-packages (from wandb) (2.8.2)\n",
      "Requirement already satisfied: pyyaml in d:\\anaconda\\lib\\site-packages (from wandb) (6.0.1)\n",
      "Requirement already satisfied: requests<3,>=2.0.0 in d:\\anaconda\\lib\\site-packages (from wandb) (2.32.3)\n",
      "Requirement already satisfied: sentry-sdk>=2.0.0 in d:\\anaconda\\lib\\site-packages (from wandb) (2.18.0)\n",
      "Requirement already satisfied: typing-extensions<5,>=4.8 in d:\\anaconda\\lib\\site-packages (from wandb) (4.11.0)\n",
      "Requirement already satisfied: colorama in d:\\anaconda\\lib\\site-packages (from click>=8.0.1->wandb) (0.4.6)\n",
      "Requirement already satisfied: gitdb<5,>=4.0.1 in d:\\anaconda\\lib\\site-packages (from gitpython!=3.1.29,>=1.0.0->wandb) (4.0.7)\n",
      "Requirement already satisfied: annotated-types>=0.4.0 in d:\\anaconda\\lib\\site-packages (from pydantic<3->wandb) (0.6.0)\n",
      "Requirement already satisfied: pydantic-core==2.20.1 in d:\\anaconda\\lib\\site-packages (from pydantic<3->wandb) (2.20.1)\n",
      "Requirement already satisfied: charset-normalizer<4,>=2 in d:\\anaconda\\lib\\site-packages (from requests<3,>=2.0.0->wandb) (3.3.2)\n",
      "Requirement already satisfied: idna<4,>=2.5 in d:\\anaconda\\lib\\site-packages (from requests<3,>=2.0.0->wandb) (3.7)\n",
      "Requirement already satisfied: urllib3<3,>=1.21.1 in d:\\anaconda\\lib\\site-packages (from requests<3,>=2.0.0->wandb) (2.2.3)\n",
      "Requirement already satisfied: certifi>=2017.4.17 in d:\\anaconda\\lib\\site-packages (from requests<3,>=2.0.0->wandb) (2025.1.31)\n",
      "Requirement already satisfied: smmap<5,>=3.0.1 in d:\\anaconda\\lib\\site-packages (from gitdb<5,>=4.0.1->gitpython!=3.1.29,>=1.0.0->wandb) (4.0.0)\n",
      "Downloading wandb-0.21.3-py3-none-win_amd64.whl (18.7 MB)\n",
      "   ---------------------------------------- 0.0/18.7 MB ? eta -:--:--\n",
      "    --------------------------------------- 0.3/18.7 MB ? eta -:--:--\n",
      "   - -------------------------------------- 0.5/18.7 MB 2.8 MB/s eta 0:00:07\n",
      "   -- ------------------------------------- 1.0/18.7 MB 1.9 MB/s eta 0:00:10\n",
      "   --- ------------------------------------ 1.6/18.7 MB 2.0 MB/s eta 0:00:09\n",
      "   ---- ----------------------------------- 2.1/18.7 MB 2.2 MB/s eta 0:00:08\n",
      "   ----- ---------------------------------- 2.6/18.7 MB 2.3 MB/s eta 0:00:08\n",
      "   ------ --------------------------------- 3.1/18.7 MB 2.5 MB/s eta 0:00:07\n",
      "   ------- -------------------------------- 3.4/18.7 MB 2.4 MB/s eta 0:00:07\n",
      "   -------- ------------------------------- 3.9/18.7 MB 2.2 MB/s eta 0:00:07\n",
      "   -------- ------------------------------- 4.2/18.7 MB 2.1 MB/s eta 0:00:07\n",
      "   --------- ------------------------------ 4.5/18.7 MB 2.0 MB/s eta 0:00:08\n",
      "   ---------- ----------------------------- 4.7/18.7 MB 1.9 MB/s eta 0:00:08\n",
      "   ---------- ----------------------------- 5.0/18.7 MB 1.9 MB/s eta 0:00:08\n",
      "   ----------- ---------------------------- 5.2/18.7 MB 1.9 MB/s eta 0:00:08\n",
      "   ----------- ---------------------------- 5.5/18.7 MB 1.8 MB/s eta 0:00:08\n",
      "   ------------ --------------------------- 6.0/18.7 MB 1.8 MB/s eta 0:00:07\n",
      "   ------------- -------------------------- 6.3/18.7 MB 1.8 MB/s eta 0:00:07\n",
      "   ------------- -------------------------- 6.3/18.7 MB 1.8 MB/s eta 0:00:07\n",
      "   -------------- ------------------------- 6.8/18.7 MB 1.7 MB/s eta 0:00:07\n",
      "   -------------- ------------------------- 6.8/18.7 MB 1.7 MB/s eta 0:00:07\n",
      "   --------------- ------------------------ 7.3/18.7 MB 1.7 MB/s eta 0:00:07\n",
      "   --------------- ------------------------ 7.3/18.7 MB 1.7 MB/s eta 0:00:07\n",
      "   ---------------- ----------------------- 7.6/18.7 MB 1.6 MB/s eta 0:00:07\n",
      "   ---------------- ----------------------- 7.9/18.7 MB 1.6 MB/s eta 0:00:07\n",
      "   ----------------- ---------------------- 8.4/18.7 MB 1.6 MB/s eta 0:00:07\n",
      "   ----------------- ---------------------- 8.4/18.7 MB 1.6 MB/s eta 0:00:07\n",
      "   ------------------ --------------------- 8.7/18.7 MB 1.6 MB/s eta 0:00:07\n",
      "   ------------------- -------------------- 8.9/18.7 MB 1.6 MB/s eta 0:00:07\n",
      "   -------------------- ------------------- 9.7/18.7 MB 1.6 MB/s eta 0:00:06\n",
      "   --------------------- ------------------ 10.0/18.7 MB 1.6 MB/s eta 0:00:06\n",
      "   --------------------- ------------------ 10.2/18.7 MB 1.6 MB/s eta 0:00:06\n",
      "   ---------------------- ----------------- 10.5/18.7 MB 1.6 MB/s eta 0:00:06\n",
      "   ---------------------- ----------------- 10.7/18.7 MB 1.6 MB/s eta 0:00:05\n",
      "   ----------------------- ---------------- 11.0/18.7 MB 1.6 MB/s eta 0:00:05\n",
      "   ------------------------ --------------- 11.5/18.7 MB 1.6 MB/s eta 0:00:05\n",
      "   ------------------------- -------------- 11.8/18.7 MB 1.6 MB/s eta 0:00:05\n",
      "   ------------------------- -------------- 12.1/18.7 MB 1.6 MB/s eta 0:00:05\n",
      "   -------------------------- ------------- 12.6/18.7 MB 1.6 MB/s eta 0:00:04\n",
      "   --------------------------- ------------ 12.8/18.7 MB 1.6 MB/s eta 0:00:04\n",
      "   --------------------------- ------------ 12.8/18.7 MB 1.6 MB/s eta 0:00:04\n",
      "   ---------------------------- ----------- 13.1/18.7 MB 1.6 MB/s eta 0:00:04\n",
      "   ----------------------------- ---------- 13.6/18.7 MB 1.6 MB/s eta 0:00:04\n",
      "   ------------------------------ --------- 14.2/18.7 MB 1.6 MB/s eta 0:00:03\n",
      "   ------------------------------ --------- 14.2/18.7 MB 1.6 MB/s eta 0:00:03\n",
      "   ------------------------------ --------- 14.4/18.7 MB 1.6 MB/s eta 0:00:03\n",
      "   ------------------------------- -------- 14.7/18.7 MB 1.6 MB/s eta 0:00:03\n",
      "   -------------------------------- ------- 15.2/18.7 MB 1.6 MB/s eta 0:00:03\n",
      "   --------------------------------- ------ 15.5/18.7 MB 1.6 MB/s eta 0:00:03\n",
      "   --------------------------------- ------ 15.7/18.7 MB 1.6 MB/s eta 0:00:02\n",
      "   ---------------------------------- ----- 16.0/18.7 MB 1.6 MB/s eta 0:00:02\n",
      "   ----------------------------------- ---- 16.5/18.7 MB 1.6 MB/s eta 0:00:02\n",
      "   ----------------------------------- ---- 16.8/18.7 MB 1.6 MB/s eta 0:00:02\n",
      "   ------------------------------------ --- 17.0/18.7 MB 1.6 MB/s eta 0:00:02\n",
      "   ------------------------------------ --- 17.3/18.7 MB 1.6 MB/s eta 0:00:01\n",
      "   ------------------------------------- -- 17.6/18.7 MB 1.6 MB/s eta 0:00:01\n",
      "   -------------------------------------- - 17.8/18.7 MB 1.6 MB/s eta 0:00:01\n",
      "   -------------------------------------- - 17.8/18.7 MB 1.6 MB/s eta 0:00:01\n",
      "   ---------------------------------------  18.4/18.7 MB 1.5 MB/s eta 0:00:01\n",
      "   ---------------------------------------- 18.7/18.7 MB 1.5 MB/s eta 0:00:00\n",
      "Installing collected packages: wandb\n",
      "Successfully installed wandb-0.21.3\n"
     ]
    }
   ],
   "source": [
    "!pip install wandb"
   ]
  },
  {
   "cell_type": "code",
   "execution_count": 9,
   "id": "108d702b",
   "metadata": {},
   "outputs": [
    {
     "name": "stdout",
     "output_type": "stream",
     "text": [
      "wandb installed\n"
     ]
    }
   ],
   "source": [
    "import wandb\n",
    "print(\"wandb installed\")"
   ]
  },
  {
   "cell_type": "code",
   "execution_count": 12,
   "id": "32b0b9d1",
   "metadata": {},
   "outputs": [
    {
     "name": "stdout",
     "output_type": "stream",
     "text": [
      "Collecting pyecg\n",
      "  Using cached pyECG-0.0.9.1-py2.py3-none-any.whl.metadata (3.1 kB)\n",
      "Collecting ishneholterlib==2017.4.11 (from pyecg)\n",
      "  Using cached ishneholterlib-2017.4.11.tar.gz (7.0 kB)\n",
      "  Preparing metadata (setup.py): started\n",
      "  Preparing metadata (setup.py): finished with status 'done'\n",
      "Requirement already satisfied: numpy in d:\\anaconda\\lib\\site-packages (from pyecg) (1.26.4)\n",
      "Collecting wfdb==2.2.1 (from pyecg)\n",
      "  Using cached wfdb-2.2.1.tar.gz (94 kB)\n",
      "  Preparing metadata (setup.py): started\n",
      "  Preparing metadata (setup.py): finished with status 'done'\n",
      "Requirement already satisfied: pytest in d:\\anaconda\\lib\\site-packages (from pyecg) (7.4.4)\n",
      "Collecting pytest-cov (from pyecg)\n",
      "  Using cached pytest_cov-6.2.1-py3-none-any.whl.metadata (30 kB)\n",
      "Collecting PyCRC (from ishneholterlib==2017.4.11->pyecg)\n",
      "  Using cached pycrc-0.11.0-py3-none-any.whl.metadata (2.7 kB)\n",
      "Collecting nose>=1.3.7 (from wfdb==2.2.1->pyecg)\n",
      "  Using cached nose-1.3.7-py3-none-any.whl.metadata (1.7 kB)\n",
      "Requirement already satisfied: matplotlib>=1.5.1 in d:\\anaconda\\lib\\site-packages (from wfdb==2.2.1->pyecg) (3.9.2)\n",
      "Requirement already satisfied: requests>=2.10.0 in d:\\anaconda\\lib\\site-packages (from wfdb==2.2.1->pyecg) (2.32.3)\n",
      "Requirement already satisfied: pandas>=0.19.1 in d:\\anaconda\\lib\\site-packages (from wfdb==2.2.1->pyecg) (2.2.2)\n",
      "Requirement already satisfied: scipy>=0.19.0 in d:\\anaconda\\lib\\site-packages (from wfdb==2.2.1->pyecg) (1.13.1)\n",
      "Collecting sklearn>=0.0 (from wfdb==2.2.1->pyecg)\n",
      "  Using cached sklearn-0.0.post12.tar.gz (2.6 kB)\n",
      "  Preparing metadata (setup.py): started\n",
      "  Preparing metadata (setup.py): finished with status 'error'\n"
     ]
    },
    {
     "name": "stderr",
     "output_type": "stream",
     "text": [
      "  error: subprocess-exited-with-error\n",
      "  \n",
      "  × python setup.py egg_info did not run successfully.\n",
      "  │ exit code: 1\n",
      "  ╰─> [15 lines of output]\n",
      "      The 'sklearn' PyPI package is deprecated, use 'scikit-learn'\n",
      "      rather than 'sklearn' for pip commands.\n",
      "      \n",
      "      Here is how to fix this error in the main use cases:\n",
      "      - use 'pip install scikit-learn' rather than 'pip install sklearn'\n",
      "      - replace 'sklearn' by 'scikit-learn' in your pip requirements files\n",
      "        (requirements.txt, setup.py, setup.cfg, Pipfile, etc ...)\n",
      "      - if the 'sklearn' package is used by one of your dependencies,\n",
      "        it would be great if you take some time to track which package uses\n",
      "        'sklearn' instead of 'scikit-learn' and report it to their issue tracker\n",
      "      - as a last resort, set the environment variable\n",
      "        SKLEARN_ALLOW_DEPRECATED_SKLEARN_PACKAGE_INSTALL=True to avoid this error\n",
      "      \n",
      "      More information is available at\n",
      "      https://github.com/scikit-learn/sklearn-pypi-package\n",
      "      [end of output]\n",
      "  \n",
      "  note: This error originates from a subprocess, and is likely not a problem with pip.\n",
      "error: metadata-generation-failed\n",
      "\n",
      "× Encountered error while generating package metadata.\n",
      "╰─> See above for output.\n",
      "\n",
      "note: This is an issue with the package mentioned above, not pip.\n",
      "hint: See above for details.\n"
     ]
    }
   ],
   "source": [
    "!pip install pyecg"
   ]
  },
  {
   "cell_type": "code",
   "execution_count": 13,
   "id": "eb8bc8cc",
   "metadata": {},
   "outputs": [
    {
     "name": "stdout",
     "output_type": "stream",
     "text": [
      "Requirement already satisfied: scikit-learn in d:\\anaconda\\lib\\site-packages (1.5.1)\n",
      "Requirement already satisfied: numpy>=1.19.5 in d:\\anaconda\\lib\\site-packages (from scikit-learn) (1.26.4)\n",
      "Requirement already satisfied: scipy>=1.6.0 in d:\\anaconda\\lib\\site-packages (from scikit-learn) (1.13.1)\n",
      "Requirement already satisfied: joblib>=1.2.0 in d:\\anaconda\\lib\\site-packages (from scikit-learn) (1.4.2)\n",
      "Requirement already satisfied: threadpoolctl>=3.1.0 in d:\\anaconda\\lib\\site-packages (from scikit-learn) (3.5.0)\n"
     ]
    }
   ],
   "source": [
    "!pip install scikit-learn"
   ]
  },
  {
   "cell_type": "code",
   "execution_count": 14,
   "id": "56a2bf3c",
   "metadata": {},
   "outputs": [
    {
     "name": "stdout",
     "output_type": "stream",
     "text": [
      "env: SKLEARN_ALLOW_DEPRECATED_SKLEARN_PACKAGE_INSTALL=True\n"
     ]
    }
   ],
   "source": [
    "%env SKLEARN_ALLOW_DEPRECATED_SKLEARN_PACKAGE_INSTALL=True"
   ]
  },
  {
   "cell_type": "code",
   "execution_count": 20,
   "id": "fa4e1a92",
   "metadata": {},
   "outputs": [
    {
     "name": "stdout",
     "output_type": "stream",
     "text": [
      "Requirement already satisfied: pyECG in d:\\anaconda\\lib\\site-packages (0.0.9.1)\n",
      "Requirement already satisfied: ishneholterlib==2017.4.11 in d:\\anaconda\\lib\\site-packages (from pyECG) (2017.4.11)\n",
      "Requirement already satisfied: numpy in d:\\anaconda\\lib\\site-packages (from pyECG) (1.26.4)\n",
      "Requirement already satisfied: wfdb==2.2.1 in d:\\anaconda\\lib\\site-packages (from pyECG) (2.2.1)\n",
      "Requirement already satisfied: pytest in d:\\anaconda\\lib\\site-packages (from pyECG) (7.4.4)\n",
      "Requirement already satisfied: pytest-cov in d:\\anaconda\\lib\\site-packages (from pyECG) (6.2.1)\n",
      "Requirement already satisfied: PyCRC in d:\\anaconda\\lib\\site-packages (from ishneholterlib==2017.4.11->pyECG) (0.11.0)\n",
      "Requirement already satisfied: nose>=1.3.7 in d:\\anaconda\\lib\\site-packages (from wfdb==2.2.1->pyECG) (1.3.7)\n",
      "Requirement already satisfied: matplotlib>=1.5.1 in d:\\anaconda\\lib\\site-packages (from wfdb==2.2.1->pyECG) (3.9.2)\n",
      "Requirement already satisfied: requests>=2.10.0 in d:\\anaconda\\lib\\site-packages (from wfdb==2.2.1->pyECG) (2.32.3)\n",
      "Requirement already satisfied: pandas>=0.19.1 in d:\\anaconda\\lib\\site-packages (from wfdb==2.2.1->pyECG) (2.2.2)\n",
      "Requirement already satisfied: scipy>=0.19.0 in d:\\anaconda\\lib\\site-packages (from wfdb==2.2.1->pyECG) (1.13.1)\n",
      "Requirement already satisfied: sklearn>=0.0 in d:\\anaconda\\lib\\site-packages (from wfdb==2.2.1->pyECG) (0.0.post12)\n",
      "Requirement already satisfied: iniconfig in d:\\anaconda\\lib\\site-packages (from pytest->pyECG) (1.1.1)\n",
      "Requirement already satisfied: packaging in d:\\anaconda\\lib\\site-packages (from pytest->pyECG) (24.1)\n",
      "Requirement already satisfied: pluggy<2.0,>=0.12 in d:\\anaconda\\lib\\site-packages (from pytest->pyECG) (1.6.0)\n",
      "Requirement already satisfied: colorama in d:\\anaconda\\lib\\site-packages (from pytest->pyECG) (0.4.6)\n",
      "Requirement already satisfied: coverage>=7.5 in d:\\anaconda\\lib\\site-packages (from coverage[toml]>=7.5->pytest-cov->pyECG) (7.10.6)\n",
      "Requirement already satisfied: contourpy>=1.0.1 in d:\\anaconda\\lib\\site-packages (from matplotlib>=1.5.1->wfdb==2.2.1->pyECG) (1.2.0)\n",
      "Requirement already satisfied: cycler>=0.10 in d:\\anaconda\\lib\\site-packages (from matplotlib>=1.5.1->wfdb==2.2.1->pyECG) (0.11.0)\n",
      "Requirement already satisfied: fonttools>=4.22.0 in d:\\anaconda\\lib\\site-packages (from matplotlib>=1.5.1->wfdb==2.2.1->pyECG) (4.51.0)\n",
      "Requirement already satisfied: kiwisolver>=1.3.1 in d:\\anaconda\\lib\\site-packages (from matplotlib>=1.5.1->wfdb==2.2.1->pyECG) (1.4.4)\n",
      "Requirement already satisfied: pillow>=8 in d:\\anaconda\\lib\\site-packages (from matplotlib>=1.5.1->wfdb==2.2.1->pyECG) (10.4.0)\n",
      "Requirement already satisfied: pyparsing>=2.3.1 in d:\\anaconda\\lib\\site-packages (from matplotlib>=1.5.1->wfdb==2.2.1->pyECG) (3.1.2)\n",
      "Requirement already satisfied: python-dateutil>=2.7 in d:\\anaconda\\lib\\site-packages (from matplotlib>=1.5.1->wfdb==2.2.1->pyECG) (2.9.0.post0)\n",
      "Requirement already satisfied: pytz>=2020.1 in d:\\anaconda\\lib\\site-packages (from pandas>=0.19.1->wfdb==2.2.1->pyECG) (2024.1)\n",
      "Requirement already satisfied: tzdata>=2022.7 in d:\\anaconda\\lib\\site-packages (from pandas>=0.19.1->wfdb==2.2.1->pyECG) (2023.3)\n",
      "Requirement already satisfied: charset-normalizer<4,>=2 in d:\\anaconda\\lib\\site-packages (from requests>=2.10.0->wfdb==2.2.1->pyECG) (3.3.2)\n",
      "Requirement already satisfied: idna<4,>=2.5 in d:\\anaconda\\lib\\site-packages (from requests>=2.10.0->wfdb==2.2.1->pyECG) (3.7)\n",
      "Requirement already satisfied: urllib3<3,>=1.21.1 in d:\\anaconda\\lib\\site-packages (from requests>=2.10.0->wfdb==2.2.1->pyECG) (2.2.3)\n",
      "Requirement already satisfied: certifi>=2017.4.17 in d:\\anaconda\\lib\\site-packages (from requests>=2.10.0->wfdb==2.2.1->pyECG) (2025.1.31)\n",
      "Requirement already satisfied: importlib-metadata>=4.0 in d:\\anaconda\\lib\\site-packages (from PyCRC->ishneholterlib==2017.4.11->pyECG) (7.0.1)\n",
      "Requirement already satisfied: zipp>=0.5 in d:\\anaconda\\lib\\site-packages (from importlib-metadata>=4.0->PyCRC->ishneholterlib==2017.4.11->pyECG) (3.17.0)\n",
      "Requirement already satisfied: six>=1.5 in d:\\anaconda\\lib\\site-packages (from python-dateutil>=2.7->matplotlib>=1.5.1->wfdb==2.2.1->pyECG) (1.16.0)\n"
     ]
    }
   ],
   "source": [
    "!pip install pyECG"
   ]
  },
  {
   "cell_type": "code",
   "execution_count": 17,
   "id": "fbe52db6",
   "metadata": {},
   "outputs": [
    {
     "name": "stdout",
     "output_type": "stream",
     "text": [
      "Requirement already satisfied: PyCRC in d:\\anaconda\\lib\\site-packages (0.11.0)\n",
      "Requirement already satisfied: importlib-metadata>=4.0 in d:\\anaconda\\lib\\site-packages (from PyCRC) (7.0.1)\n",
      "Requirement already satisfied: zipp>=0.5 in d:\\anaconda\\lib\\site-packages (from importlib-metadata>=4.0->PyCRC) (3.17.0)\n"
     ]
    }
   ],
   "source": [
    "!pip install PyCRC"
   ]
  },
  {
   "cell_type": "code",
   "execution_count": 25,
   "id": "e3eacb4c",
   "metadata": {},
   "outputs": [
    {
     "name": "stdout",
     "output_type": "stream",
     "text": [
      "installed\n"
     ]
    }
   ],
   "source": [
    "import wfdb\n",
    "print(\"installed\")"
   ]
  },
  {
   "cell_type": "code",
   "execution_count": 24,
   "id": "fe04c87d",
   "metadata": {},
   "outputs": [
    {
     "name": "stdout",
     "output_type": "stream",
     "text": [
      "Requirement already satisfied: wfdb in d:\\anaconda\\lib\\site-packages (2.2.1)\n",
      "Requirement already satisfied: nose>=1.3.7 in d:\\anaconda\\lib\\site-packages (from wfdb) (1.3.7)\n",
      "Requirement already satisfied: numpy>=1.11.0 in d:\\anaconda\\lib\\site-packages (from wfdb) (1.26.4)\n",
      "Requirement already satisfied: matplotlib>=1.5.1 in d:\\anaconda\\lib\\site-packages (from wfdb) (3.9.2)\n",
      "Requirement already satisfied: requests>=2.10.0 in d:\\anaconda\\lib\\site-packages (from wfdb) (2.32.3)\n",
      "Requirement already satisfied: pandas>=0.19.1 in d:\\anaconda\\lib\\site-packages (from wfdb) (2.2.2)\n",
      "Requirement already satisfied: scipy>=0.19.0 in d:\\anaconda\\lib\\site-packages (from wfdb) (1.13.1)\n",
      "Requirement already satisfied: sklearn>=0.0 in d:\\anaconda\\lib\\site-packages (from wfdb) (0.0.post12)\n",
      "Requirement already satisfied: contourpy>=1.0.1 in d:\\anaconda\\lib\\site-packages (from matplotlib>=1.5.1->wfdb) (1.2.0)\n",
      "Requirement already satisfied: cycler>=0.10 in d:\\anaconda\\lib\\site-packages (from matplotlib>=1.5.1->wfdb) (0.11.0)\n",
      "Requirement already satisfied: fonttools>=4.22.0 in d:\\anaconda\\lib\\site-packages (from matplotlib>=1.5.1->wfdb) (4.51.0)\n",
      "Requirement already satisfied: kiwisolver>=1.3.1 in d:\\anaconda\\lib\\site-packages (from matplotlib>=1.5.1->wfdb) (1.4.4)\n",
      "Requirement already satisfied: packaging>=20.0 in d:\\anaconda\\lib\\site-packages (from matplotlib>=1.5.1->wfdb) (24.1)\n",
      "Requirement already satisfied: pillow>=8 in d:\\anaconda\\lib\\site-packages (from matplotlib>=1.5.1->wfdb) (10.4.0)\n",
      "Requirement already satisfied: pyparsing>=2.3.1 in d:\\anaconda\\lib\\site-packages (from matplotlib>=1.5.1->wfdb) (3.1.2)\n",
      "Requirement already satisfied: python-dateutil>=2.7 in d:\\anaconda\\lib\\site-packages (from matplotlib>=1.5.1->wfdb) (2.9.0.post0)\n",
      "Requirement already satisfied: pytz>=2020.1 in d:\\anaconda\\lib\\site-packages (from pandas>=0.19.1->wfdb) (2024.1)\n",
      "Requirement already satisfied: tzdata>=2022.7 in d:\\anaconda\\lib\\site-packages (from pandas>=0.19.1->wfdb) (2023.3)\n",
      "Requirement already satisfied: charset-normalizer<4,>=2 in d:\\anaconda\\lib\\site-packages (from requests>=2.10.0->wfdb) (3.3.2)\n",
      "Requirement already satisfied: idna<4,>=2.5 in d:\\anaconda\\lib\\site-packages (from requests>=2.10.0->wfdb) (3.7)\n",
      "Requirement already satisfied: urllib3<3,>=1.21.1 in d:\\anaconda\\lib\\site-packages (from requests>=2.10.0->wfdb) (2.2.3)\n",
      "Requirement already satisfied: certifi>=2017.4.17 in d:\\anaconda\\lib\\site-packages (from requests>=2.10.0->wfdb) (2025.1.31)\n",
      "Requirement already satisfied: six>=1.5 in d:\\anaconda\\lib\\site-packages (from python-dateutil>=2.7->matplotlib>=1.5.1->wfdb) (1.16.0)\n"
     ]
    }
   ],
   "source": [
    "!pip install wfdb"
   ]
  }
 ],
 "metadata": {
  "kernelspec": {
   "display_name": "base",
   "language": "python",
   "name": "python3"
  },
  "language_info": {
   "codemirror_mode": {
    "name": "ipython",
    "version": 3
   },
   "file_extension": ".py",
   "mimetype": "text/x-python",
   "name": "python",
   "nbconvert_exporter": "python",
   "pygments_lexer": "ipython3",
   "version": "3.12.7"
  }
 },
 "nbformat": 4,
 "nbformat_minor": 5
}
