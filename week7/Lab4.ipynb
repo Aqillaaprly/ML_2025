{
 "cells": [
  {
   "cell_type": "code",
   "execution_count": 1,
   "id": "43e7d9ba",
   "metadata": {},
   "outputs": [],
   "source": [
    "import numpy as np\n",
    "import time\n",
    "from annoy import AnnoyIndex\n",
    "import faiss\n",
    "import hnswlib"
   ]
  },
  {
   "cell_type": "code",
   "execution_count": 2,
   "id": "0f52166d",
   "metadata": {},
   "outputs": [],
   "source": [
    "# ===============================\n",
    "# Build 1mio rows with 5D\n",
    "# ===============================\n",
    "n_data = 1_000_000   # try 100_000 if you have limited memory\n",
    "dim = 5\n",
    "X = np.random.random((n_data, dim)).astype(np.float32)\n",
    "\n",
    "# Query point\n",
    "query = np.random.random((1, dim)).astype(np.float32)\n",
    "k = 10"
   ]
  },
  {
   "cell_type": "code",
   "execution_count": 3,
   "id": "077bad78",
   "metadata": {},
   "outputs": [
    {
     "name": "stdout",
     "output_type": "stream",
     "text": [
      "=== Annoy ===\n",
      "Build time: 4.283308029174805 detik\n",
      "Query time: 0.0030825138092041016 detik\n",
      "Neighbors: [388641, 152487, 387839, 40051, 570333] ...\n"
     ]
    }
   ],
   "source": [
    "\n",
    "# ===============================\n",
    "# 2. Annoy\n",
    "# ===============================\n",
    "print(\"=== Annoy ===\")\n",
    "ann_index = AnnoyIndex(dim, 'euclidean')\n",
    "\n",
    "start = time.time()\n",
    "for i in range(n_data):\n",
    "    ann_index.add_item(i, X[i])\n",
    "ann_index.build(10)  # 10 trees\n",
    "build_time = time.time() - start\n",
    "\n",
    "start = time.time()\n",
    "neighbors = ann_index.get_nns_by_vector(query[0], k, include_distances=True)\n",
    "query_time = time.time() - start\n",
    "\n",
    "print(\"Build time:\", build_time, \"detik\")\n",
    "print(\"Query time:\", query_time, \"detik\")\n",
    "print(\"Neighbors:\", neighbors[0][:5], \"...\")"
   ]
  },
  {
   "cell_type": "code",
   "execution_count": 5,
   "id": "7b95647c",
   "metadata": {},
   "outputs": [
    {
     "name": "stdout",
     "output_type": "stream",
     "text": [
      "\n",
      "=== FAISS (IndexFlatL2) ===\n",
      "Build time: 0.012629985809326172 detik\n",
      "Query time: 0.00649714469909668 detik\n",
      "Neighbors: [388641 152487 387839  40051 570333] ...\n"
     ]
    }
   ],
   "source": [
    "# ===============================\n",
    "# 3. FAISS (Flat Index)\n",
    "# ===============================\n",
    "print(\"\\n=== FAISS (IndexFlatL2) ===\")\n",
    "faiss_index = faiss.IndexFlatL2(dim)\n",
    "\n",
    "start = time.time()\n",
    "faiss_index.add(X)\n",
    "build_time = time.time() - start\n",
    "\n",
    "start = time.time()\n",
    "distances, indices = faiss_index.search(query, k)\n",
    "query_time = time.time() - start\n",
    "\n",
    "print(\"Build time:\", build_time, \"detik\")\n",
    "print(\"Query time:\", query_time, \"detik\")\n",
    "print(\"Neighbors:\", indices[0][:5], \"...\")"
   ]
  },
  {
   "cell_type": "code",
   "execution_count": 6,
   "id": "31759d06",
   "metadata": {},
   "outputs": [
    {
     "name": "stdout",
     "output_type": "stream",
     "text": [
      "\n",
      "=== HNSW (hnswlib) ===\n",
      "Build time: 41.89698791503906 detik\n",
      "Query time: 0.0 detik\n",
      "Neighbors: [388641 152487 387839  40051 570333] ...\n"
     ]
    }
   ],
   "source": [
    "# ===============================\n",
    "# 4. HNSW (hnswlib)\n",
    "# ===============================\n",
    "print(\"\\n=== HNSW (hnswlib) ===\")\n",
    "hnsw_index = hnswlib.Index(space='l2', dim=dim)\n",
    "\n",
    "start = time.time()\n",
    "hnsw_index.init_index(max_elements=n_data, ef_construction=200, M=16)\n",
    "hnsw_index.add_items(X)\n",
    "build_time = time.time() - start\n",
    "\n",
    "hnsw_index.set_ef(50)\n",
    "\n",
    "start = time.time()\n",
    "labels, distances = hnsw_index.knn_query(query, k=k)\n",
    "query_time = time.time() - start\n",
    "\n",
    "print(\"Build time:\", build_time, \"detik\")\n",
    "print(\"Query time:\", query_time, \"detik\")\n",
    "print(\"Neighbors:\", labels[0][:5], \"...\")"
   ]
  },
  {
   "cell_type": "markdown",
   "id": "ff31445f",
   "metadata": {},
   "source": [
    "When evaluated on a large-scale dataset, the performance characteristics of the three Approximate Nearest Neighbor algorithms vary significantly. FAISS (IndexFlatL2) demonstrates the most efficient index construction with a build time of only 0.01 seconds, making it the optimal choice when the index must be created rapidly.\n",
    "\n",
    "However, for query performance, HNSW is the clear leader, achieving an unparalleled query time of 0.0 seconds. Annoy presents a balanced profile, with a build time of 4.28 seconds and a query time of 0.003 seconds. This analysis indicates that the ideal algorithm depends on the specific application: FAISS excels at fast indexing, while HNSW provides the fastest search capabilities once the index is built."
   ]
  }
 ],
 "metadata": {
  "kernelspec": {
   "display_name": "base",
   "language": "python",
   "name": "python3"
  },
  "language_info": {
   "codemirror_mode": {
    "name": "ipython",
    "version": 3
   },
   "file_extension": ".py",
   "mimetype": "text/x-python",
   "name": "python",
   "nbconvert_exporter": "python",
   "pygments_lexer": "ipython3",
   "version": "3.12.7"
  }
 },
 "nbformat": 4,
 "nbformat_minor": 5
}
