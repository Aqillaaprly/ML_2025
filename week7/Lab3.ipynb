{
 "cells": [
  {
   "cell_type": "code",
   "execution_count": 1,
   "id": "cdb62eac",
   "metadata": {},
   "outputs": [
    {
     "name": "stdout",
     "output_type": "stream",
     "text": [
      "Collecting hnswlib\n",
      "  Downloading hnswlib-0.8.0.tar.gz (36 kB)\n",
      "  Installing build dependencies: started\n",
      "  Installing build dependencies: finished with status 'done'\n",
      "  Getting requirements to build wheel: started\n",
      "  Getting requirements to build wheel: finished with status 'done'\n",
      "  Preparing metadata (pyproject.toml): started\n",
      "  Preparing metadata (pyproject.toml): finished with status 'done'\n",
      "Requirement already satisfied: numpy in d:\\anaconda\\lib\\site-packages (from hnswlib) (1.26.4)\n",
      "Building wheels for collected packages: hnswlib\n",
      "  Building wheel for hnswlib (pyproject.toml): started\n",
      "  Building wheel for hnswlib (pyproject.toml): finished with status 'done'\n",
      "  Created wheel for hnswlib: filename=hnswlib-0.8.0-cp312-cp312-win_amd64.whl size=160807 sha256=e00869f86a888c6b488350a47bd6580cf917baaf9c331b521710b376c2712613\n",
      "  Stored in directory: c:\\users\\lenovo\\appdata\\local\\pip\\cache\\wheels\\ac\\39\\b3\\cbd7f9cbb76501d2d5fbc84956e70d0b94e788aac87bda465e\n",
      "Successfully built hnswlib\n",
      "Installing collected packages: hnswlib\n",
      "Successfully installed hnswlib-0.8.0\n"
     ]
    }
   ],
   "source": [
    "!pip install hnswlib"
   ]
  },
  {
   "cell_type": "code",
   "execution_count": 2,
   "id": "5ace0dc7",
   "metadata": {},
   "outputs": [],
   "source": [
    "# STEP 2 - IMPORT LIBRARIES \n",
    "\n",
    "import hnswlib\n",
    "import numpy as np\n",
    "import time\n",
    "from sklearn.neighbors import NearestNeighbors"
   ]
  },
  {
   "cell_type": "code",
   "execution_count": 3,
   "id": "35210588",
   "metadata": {},
   "outputs": [],
   "source": [
    "# STEP 3 - CREATE A DUMMY DATASET\n",
    "\n",
    "# Build Dummy Dataset\n",
    "num_elements = 1000\n",
    "dim = 2\n",
    "data = np.random.random((num_elements, dim)).astype(np.float32)\n",
    "\n",
    "# Query point\n",
    "query = np.array([[0.5, 0.5]], dtype=np.float32)\n",
    "k = 5  # cari 5 tetangga terdekat"
   ]
  },
  {
   "cell_type": "code",
   "execution_count": 4,
   "id": "af961633",
   "metadata": {},
   "outputs": [
    {
     "name": "stdout",
     "output_type": "stream",
     "text": [
      "=== Exact NN ===\n",
      "Indices: [[993 248 790 217 706]]\n",
      "Distances: [[0.01611734 0.02592283 0.03178297 0.03242299 0.03485315]]\n",
      "Waktu: 1.1208932399749756 s\n"
     ]
    }
   ],
   "source": [
    "# STEP 4 - BUILD EXACT NN MODEL \n",
    "\n",
    "# Build NN Model\n",
    "nn = NearestNeighbors(n_neighbors=k, algorithm='brute', metric='euclidean')\n",
    "nn.fit(data)\n",
    "\n",
    "# Compute time performace\n",
    "start = time.time()\n",
    "distances, indices = nn.kneighbors(query)\n",
    "end = time.time()\n",
    "\n",
    "print(\"=== Exact NN ===\")\n",
    "print(\"Indices:\", indices)\n",
    "print(\"Distances:\", distances)\n",
    "print(\"Waktu:\", end - start, \"s\")"
   ]
  },
  {
   "cell_type": "code",
   "execution_count": 6,
   "id": "a08474c2",
   "metadata": {},
   "outputs": [
    {
     "name": "stdout",
     "output_type": "stream",
     "text": [
      "\n",
      "=== HNSW ===\n",
      "Indices: [[993 248 790 217 706]]\n",
      "Distances: [[0.00025977 0.00067199 0.00101016 0.00105125 0.00121474]]\n",
      "Waktu: 0.0 s\n"
     ]
    }
   ],
   "source": [
    "# STEP 5 - BUILD HNSW MODEL \n",
    "\n",
    "# Initiate Index\n",
    "p = hnswlib.Index(space='l2', dim=dim)  \n",
    "\n",
    "# Define Max Elements\n",
    "p.init_index(max_elements=num_elements, ef_construction=100, M=16)\n",
    "\n",
    "# Add Data\n",
    "p.add_items(data)\n",
    "\n",
    "# Set searching parameter\n",
    "p.set_ef(50)   # tradeoff speed vs accuracy\n",
    "\n",
    "start = time.time()\n",
    "labels, distances = p.knn_query(query, k=k)\n",
    "end = time.time()\n",
    "\n",
    "print(\"\\n=== HNSW ===\")\n",
    "print(\"Indices:\", labels)\n",
    "print(\"Distances:\", distances)\n",
    "print(\"Waktu:\", end - start, \"s\")"
   ]
  },
  {
   "cell_type": "markdown",
   "id": "255d4a20",
   "metadata": {},
   "source": [
    "The experimental results demonstrate a significant disparity in computational performance between the Exact NN model and the HNSW model. The Exact NN model, which guarantees perfect accuracy by using a brute-force search, required 1.12 seconds to find the nearest neighbors.\n",
    "\n",
    "In stark contrast, the HNSW model, an approximate method, delivered a result in 0.0 seconds, showcasing the profound efficiency gains possible. This confirms that for applications requiring real-time performance, the speed-accuracy trade-off offered by the HNSW model is not only advantageous but essential."
   ]
  }
 ],
 "metadata": {
  "kernelspec": {
   "display_name": "base",
   "language": "python",
   "name": "python3"
  },
  "language_info": {
   "codemirror_mode": {
    "name": "ipython",
    "version": 3
   },
   "file_extension": ".py",
   "mimetype": "text/x-python",
   "name": "python",
   "nbconvert_exporter": "python",
   "pygments_lexer": "ipython3",
   "version": "3.12.7"
  }
 },
 "nbformat": 4,
 "nbformat_minor": 5
}
