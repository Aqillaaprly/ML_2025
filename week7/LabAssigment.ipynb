{
 "cells": [
  {
   "cell_type": "markdown",
   "id": "8b723318",
   "metadata": {},
   "source": [
    "# LAB ASSIGMENT 1"
   ]
  },
  {
   "cell_type": "code",
   "execution_count": 6,
   "id": "bae6f505",
   "metadata": {},
   "outputs": [],
   "source": [
    "import numpy as np\n",
    "from time import time\n",
    "from annoy import AnnoyIndex\n",
    "import faiss\n",
    "import hnswlib"
   ]
  },
  {
   "cell_type": "code",
   "execution_count": 7,
   "id": "c04c0365",
   "metadata": {},
   "outputs": [
    {
     "name": "stdout",
     "output_type": "stream",
     "text": [
      "ANNOY: 0.02262401580810547\n",
      "FAISS: 0.00040912628173828125\n",
      "HNSW: 0.0\n"
     ]
    }
   ],
   "source": [
    "# 1000/2\n",
    "data = np.random.random((1000, 2)).astype('float32')\n",
    "\n",
    "# --- ANNOY ---\n",
    "f = 2\n",
    "t = AnnoyIndex(f, 'euclidean')\n",
    "for i in range(len(data)):\n",
    "    t.add_item(i, data[i])\n",
    "\n",
    "start = time()\n",
    "t.build(10)\n",
    "t.get_nns_by_item(0, 10) \n",
    "annoy_time = time() - start\n",
    "\n",
    "# --- FAISS ---\n",
    "index = faiss.IndexFlatL2(f)\n",
    "index.add(data)\n",
    "start = time()\n",
    "index.search(data[:1], 10)\n",
    "faiss_time = time() - start\n",
    "\n",
    "# --- HNSW ---\n",
    "p = hnswlib.Index(space='l2', dim=f)\n",
    "p.init_index(max_elements=len(data), ef_construction=100, M=16)\n",
    "p.add_items(data)\n",
    "start = time()\n",
    "p.knn_query(data[:1], k=10)\n",
    "hnsw_time = time() - start\n",
    "\n",
    "print(\"ANNOY:\", annoy_time)\n",
    "print(\"FAISS:\", faiss_time)\n",
    "print(\"HNSW:\", hnsw_time)\n"
   ]
  },
  {
   "cell_type": "code",
   "execution_count": 9,
   "id": "4163d637",
   "metadata": {},
   "outputs": [
    {
     "name": "stdout",
     "output_type": "stream",
     "text": [
      "ANNOY: 0.011003971099853516\n",
      "FAISS: 0.0\n",
      "HNSW: 0.0\n"
     ]
    }
   ],
   "source": [
    "# 1000/5\n",
    "data = np.random.random((1000, 5)).astype('float32')\n",
    "\n",
    "# --- ANNOY ---\n",
    "f = data.shape[1]\n",
    "t = AnnoyIndex(f, 'euclidean')\n",
    "for i in range(len(data)):\n",
    "    t.add_item(i, data[i])\n",
    "\n",
    "start = time()\n",
    "t.build(10)\n",
    "t.get_nns_by_item(0, 10) \n",
    "annoy_time = time() - start\n",
    "\n",
    "# --- FAISS ---\n",
    "index = faiss.IndexFlatL2(f)\n",
    "index.add(data)\n",
    "start = time()\n",
    "index.search(data[:1], 10)\n",
    "faiss_time = time() - start\n",
    "\n",
    "# --- HNSW ---\n",
    "p = hnswlib.Index(space='l2', dim=f)\n",
    "p.init_index(max_elements=len(data), ef_construction=100, M=16)\n",
    "p.add_items(data)\n",
    "start = time()\n",
    "p.knn_query(data[:1], k=10)\n",
    "hnsw_time = time() - start\n",
    "\n",
    "print(\"ANNOY:\", annoy_time)\n",
    "print(\"FAISS:\", faiss_time)\n",
    "print(\"HNSW:\", hnsw_time)\n"
   ]
  },
  {
   "cell_type": "code",
   "execution_count": 10,
   "id": "79dda95d",
   "metadata": {},
   "outputs": [
    {
     "name": "stdout",
     "output_type": "stream",
     "text": [
      "ANNOY: 7.660905838012695\n",
      "FAISS: 0.010268688201904297\n",
      "HNSW: 0.005427360534667969\n"
     ]
    }
   ],
   "source": [
    "# 1.000.000/2\n",
    "data = np.random.random((1000000, 2)).astype('float32')\n",
    "\n",
    "# --- ANNOY ---\n",
    "f = data.shape[1]\n",
    "t = AnnoyIndex(f, 'euclidean')\n",
    "for i in range(len(data)):\n",
    "    t.add_item(i, data[i])\n",
    "\n",
    "start = time()\n",
    "t.build(10)\n",
    "t.get_nns_by_item(0, 10) \n",
    "annoy_time = time() - start\n",
    "\n",
    "# --- FAISS ---\n",
    "index = faiss.IndexFlatL2(f)\n",
    "index.add(data)\n",
    "start = time()\n",
    "index.search(data[:1], 10)\n",
    "faiss_time = time() - start\n",
    "\n",
    "# --- HNSW ---\n",
    "p = hnswlib.Index(space='l2', dim=f)\n",
    "p.init_index(max_elements=len(data), ef_construction=100, M=16)\n",
    "p.add_items(data)\n",
    "start = time()\n",
    "p.knn_query(data[:1], k=10)\n",
    "hnsw_time = time() - start\n",
    "\n",
    "print(\"ANNOY:\", annoy_time)\n",
    "print(\"FAISS:\", faiss_time)\n",
    "print(\"HNSW:\", hnsw_time)\n"
   ]
  },
  {
   "cell_type": "code",
   "execution_count": 11,
   "id": "95967e90",
   "metadata": {},
   "outputs": [
    {
     "name": "stdout",
     "output_type": "stream",
     "text": [
      "ANNOY: 6.194023132324219\n",
      "FAISS: 0.011307239532470703\n",
      "HNSW: 0.0\n"
     ]
    }
   ],
   "source": [
    "# 1.000.000/5\n",
    "data = np.random.random((1000000, 5)).astype('float32')\n",
    "\n",
    "# --- ANNOY ---\n",
    "f = data.shape[1]\n",
    "t = AnnoyIndex(f, 'euclidean')\n",
    "for i in range(len(data)):\n",
    "    t.add_item(i, data[i])\n",
    "\n",
    "start = time()\n",
    "t.build(10)\n",
    "t.get_nns_by_item(0, 10) \n",
    "annoy_time = time() - start\n",
    "\n",
    "# --- FAISS ---\n",
    "index = faiss.IndexFlatL2(f)\n",
    "index.add(data)\n",
    "start = time()\n",
    "index.search(data[:1], 10)\n",
    "faiss_time = time() - start\n",
    "\n",
    "# --- HNSW ---\n",
    "p = hnswlib.Index(space='l2', dim=f)\n",
    "p.init_index(max_elements=len(data), ef_construction=100, M=16)\n",
    "p.add_items(data)\n",
    "start = time()\n",
    "p.knn_query(data[:1], k=10)\n",
    "hnsw_time = time() - start\n",
    "\n",
    "print(\"ANNOY:\", annoy_time)\n",
    "print(\"FAISS:\", faiss_time)\n",
    "print(\"HNSW:\", hnsw_time)\n"
   ]
  },
  {
   "cell_type": "code",
   "execution_count": 12,
   "id": "8ab59c35",
   "metadata": {},
   "outputs": [
    {
     "name": "stdout",
     "output_type": "stream",
     "text": [
      "  Criteria (Rows/Dimension)  ANNOY   FAISS   HNSW\n",
      "0                   1000/2D  0.020  0.0004  0.000\n",
      "1                   1000/5D  0.001  0.0000  0.000\n",
      "2                1000000/2D  7.660  0.0100  0.005\n",
      "3                1000000/5D  6.190  0.0110  0.000\n"
     ]
    }
   ],
   "source": [
    "data = {\n",
    "    'Criteria (Rows/Dimension)': ['1000/2D', '1000/5D', '1000000/2D', '1000000/5D'],\n",
    "    'ANNOY': [0.02, 0.001, 7.66, 6.19],\n",
    "    'FAISS': [0.0004, 0.000, 0.01, 0.011],\n",
    "    'HNSW': [0.00, 0.000, 0.005, 0.0]\n",
    "}\n",
    "\n",
    "df = pd.DataFrame(data)\n",
    "print(df)"
   ]
  },
  {
   "cell_type": "markdown",
   "id": "321887bd",
   "metadata": {},
   "source": [
    "Based on the experimental results, FAISS and HNSWLIB consistently outperformed ANNOY in terms of execution time, especially on large datasets. While all algorithms performed similarly fast on small datasets (1000 samples), ANNOY became significantly slower as the data size increased to one million records, taking several seconds compared to the near-instant responses of FAISS and HNSWLIB. The number of dimensions (2D vs. 5D) had minimal impact on performance for all methods. Overall, FAISS and HNSWLIB demonstrated superior scalability and efficiency, making them more suitable for large-scale or real-time nearest neighbor searches, while ANNOY remains a simpler option for smaller datasets.\n"
   ]
  },
  {
   "cell_type": "markdown",
   "id": "9280925a",
   "metadata": {},
   "source": [
    "# LAB ASSIGMENT 2"
   ]
  },
  {
   "cell_type": "code",
   "execution_count": 13,
   "id": "094a1e45",
   "metadata": {},
   "outputs": [],
   "source": [
    "import pandas as pd\n",
    "import numpy as np\n",
    "import time\n",
    "import faiss\n",
    "from annoy import AnnoyIndex\n",
    "import hnswlib\n",
    "from sklearn.neighbors import NearestNeighbors\n",
    "from sklearn.preprocessing import StandardScaler"
   ]
  },
  {
   "cell_type": "code",
   "execution_count": 14,
   "id": "2fad6d1b",
   "metadata": {},
   "outputs": [],
   "source": [
    "# Load dataset\n",
    "df = pd.read_csv('songs_with_attributes_and_lyrics.csv')  # ganti path sesuai lokasi file\n",
    "features = ['danceability', 'energy', 'loudness', 'speechiness', \n",
    "            'acousticness', 'instrumentalness', 'liveness', 'valence', 'tempo']\n",
    "X = df[features].values\n",
    "\n",
    "# Standardisasi \n",
    "scaler = StandardScaler()\n",
    "X_scaled = scaler.fit_transform(X)\n",
    "\n",
    "# Parameter\n",
    "k = 10  \n",
    "n_samples = X_scaled.shape[0]\n",
    "dim = X_scaled.shape[1]"
   ]
  },
  {
   "cell_type": "code",
   "execution_count": 16,
   "id": "b96449f6",
   "metadata": {},
   "outputs": [
    {
     "name": "stdout",
     "output_type": "stream",
     "text": [
      "Running Exact Nearest Neighbors...\n",
      "Exact NN time: 0.1450 seconds\n"
     ]
    }
   ],
   "source": [
    "# 1. Exact Nearest Neighbors\n",
    "print(\"Running Exact Nearest Neighbors...\")\n",
    "start = time.time()\n",
    "nn_model = NearestNeighbors(n_neighbors=k, algorithm='brute', metric='euclidean')\n",
    "nn_model.fit(X_scaled)\n",
    "distances, indices = nn_model.kneighbors(X_scaled[:1])\n",
    "exact_time = time.time() - start\n",
    "print(f\"Exact NN time: {exact_time:.4f} seconds\")"
   ]
  },
  {
   "cell_type": "code",
   "execution_count": 17,
   "id": "0e985f65",
   "metadata": {},
   "outputs": [
    {
     "name": "stdout",
     "output_type": "stream",
     "text": [
      "\n",
      "Running Annoy...\n",
      "Annoy time: 5.5521 seconds\n"
     ]
    }
   ],
   "source": [
    "# 2. Annoy\n",
    "print(\"\\nRunning Annoy...\")\n",
    "annoy_index = AnnoyIndex(dim, 'euclidean')\n",
    "for i in range(n_samples):\n",
    "    annoy_index.add_item(i, X_scaled[i])\n",
    "start = time.time()\n",
    "annoy_index.build(10)  # number of trees\n",
    "neighbors = annoy_index.get_nns_by_item(0, k)\n",
    "annoy_time = time.time() - start\n",
    "print(f\"Annoy time: {annoy_time:.4f} seconds\")"
   ]
  },
  {
   "cell_type": "code",
   "execution_count": 18,
   "id": "d8869336",
   "metadata": {},
   "outputs": [
    {
     "name": "stdout",
     "output_type": "stream",
     "text": [
      "\n",
      "Running FAISS...\n",
      "FAISS time: 0.1783 seconds\n"
     ]
    }
   ],
   "source": [
    "# 3. FAISS\n",
    "print(\"\\nRunning FAISS...\")\n",
    "index_faiss = faiss.IndexFlatL2(dim)\n",
    "start = time.time()\n",
    "index_faiss.add(X_scaled.astype('float32'))\n",
    "D, I = index_faiss.search(X_scaled[:1].astype('float32'), k)\n",
    "faiss_time = time.time() - start\n",
    "print(f\"FAISS time: {faiss_time:.4f} seconds\")"
   ]
  },
  {
   "cell_type": "code",
   "execution_count": 19,
   "id": "05471ef4",
   "metadata": {},
   "outputs": [
    {
     "name": "stdout",
     "output_type": "stream",
     "text": [
      "\n",
      "Running HNSWLIB...\n",
      "HNSW time: 0.0014 seconds\n"
     ]
    }
   ],
   "source": [
    "# 4. HNSWLIB\n",
    "print(\"\\nRunning HNSWLIB...\")\n",
    "p = hnswlib.Index(space='l2', dim=dim)\n",
    "p.init_index(max_elements=n_samples, ef_construction=100, M=16)\n",
    "p.add_items(X_scaled)\n",
    "start = time.time()\n",
    "labels, distances = p.knn_query(X_scaled[:1], k=k)\n",
    "hnsw_time = time.time() - start\n",
    "print(f\"HNSW time: {hnsw_time:.4f} seconds\")"
   ]
  },
  {
   "cell_type": "code",
   "execution_count": 20,
   "id": "989a6103",
   "metadata": {},
   "outputs": [
    {
     "name": "stdout",
     "output_type": "stream",
     "text": [
      "\n",
      "=== Performance Comparison ===\n",
      "     Method  Execution Time (s)\n",
      "0  Exact NN            0.145045\n",
      "1     Annoy            5.552124\n",
      "2     FAISS            0.178330\n",
      "3   HNSWLIB            0.001447\n"
     ]
    }
   ],
   "source": [
    "import pandas as pd\n",
    "results = pd.DataFrame({\n",
    "    'Method': ['Exact NN', 'Annoy', 'FAISS', 'HNSWLIB'],\n",
    "    'Execution Time (s)': [exact_time, annoy_time, faiss_time, hnsw_time]\n",
    "})\n",
    "print(\"\\n=== Performance Comparison ===\")\n",
    "print(results)"
   ]
  },
  {
   "cell_type": "markdown",
   "id": "4c3776a2",
   "metadata": {},
   "source": [
    "Based on the performance comparison, HNSWLIB achieved the fastest execution time among all methods, completing the nearest neighbor search in only 0.001 seconds. FAISS and Exact Nearest Neighbors showed comparable results, with FAISS being slightly slower than the exact search but still performing efficiently. In contrast, ANNOY was significantly slower, requiring over 5 seconds for the same task. These results indicate that HNSWLIB provides the best balance of speed and scalability, making it ideal for large-scale or real-time similarity search applications, while ANNOY is less efficient for high-performance use cases."
   ]
  }
 ],
 "metadata": {
  "kernelspec": {
   "display_name": "base",
   "language": "python",
   "name": "python3"
  },
  "language_info": {
   "codemirror_mode": {
    "name": "ipython",
    "version": 3
   },
   "file_extension": ".py",
   "mimetype": "text/x-python",
   "name": "python",
   "nbconvert_exporter": "python",
   "pygments_lexer": "ipython3",
   "version": "3.12.7"
  }
 },
 "nbformat": 4,
 "nbformat_minor": 5
}
